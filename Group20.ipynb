{
 "cells": [
  {
   "cell_type": "code",
   "execution_count": 1,
   "metadata": {},
   "outputs": [
    {
     "name": "stdout",
     "output_type": "stream",
     "text": [
      "Requirement already satisfied: scikit-plot in c:\\users\\user\\anaconda3\\lib\\site-packages (0.3.7)\n",
      "Requirement already satisfied: scikit-learn>=0.18 in c:\\users\\user\\anaconda3\\lib\\site-packages (from scikit-plot) (0.23.2)\n",
      "Requirement already satisfied: matplotlib>=1.4.0 in c:\\users\\user\\anaconda3\\lib\\site-packages (from scikit-plot) (3.3.2)\n",
      "Requirement already satisfied: joblib>=0.10 in c:\\users\\user\\anaconda3\\lib\\site-packages (from scikit-plot) (0.17.0)\n",
      "Requirement already satisfied: scipy>=0.9 in c:\\users\\user\\anaconda3\\lib\\site-packages (from scikit-plot) (1.5.2)\n",
      "Requirement already satisfied: threadpoolctl>=2.0.0 in c:\\users\\user\\anaconda3\\lib\\site-packages (from scikit-learn>=0.18->scikit-plot) (2.1.0)\n",
      "Requirement already satisfied: numpy>=1.13.3 in c:\\users\\user\\anaconda3\\lib\\site-packages (from scikit-learn>=0.18->scikit-plot) (1.19.2)\n",
      "Requirement already satisfied: python-dateutil>=2.1 in c:\\users\\user\\anaconda3\\lib\\site-packages (from matplotlib>=1.4.0->scikit-plot) (2.8.1)\n",
      "Requirement already satisfied: cycler>=0.10 in c:\\users\\user\\anaconda3\\lib\\site-packages (from matplotlib>=1.4.0->scikit-plot) (0.10.0)\n",
      "Requirement already satisfied: pyparsing!=2.0.4,!=2.1.2,!=2.1.6,>=2.0.3 in c:\\users\\user\\anaconda3\\lib\\site-packages (from matplotlib>=1.4.0->scikit-plot) (2.4.7)\n",
      "Requirement already satisfied: pillow>=6.2.0 in c:\\users\\user\\anaconda3\\lib\\site-packages (from matplotlib>=1.4.0->scikit-plot) (8.0.1)\n",
      "Requirement already satisfied: kiwisolver>=1.0.1 in c:\\users\\user\\anaconda3\\lib\\site-packages (from matplotlib>=1.4.0->scikit-plot) (1.3.0)\n",
      "Requirement already satisfied: certifi>=2020.06.20 in c:\\users\\user\\anaconda3\\lib\\site-packages (from matplotlib>=1.4.0->scikit-plot) (2020.12.5)\n",
      "Requirement already satisfied: six>=1.5 in c:\\users\\user\\anaconda3\\lib\\site-packages (from python-dateutil>=2.1->matplotlib>=1.4.0->scikit-plot) (1.15.0)\n"
     ]
    },
    {
     "name": "stderr",
     "output_type": "stream",
     "text": [
      "WARNING: You are using pip version 20.2.4; however, version 21.0.1 is available.\n",
      "You should consider upgrading via the 'C:\\Users\\user\\anaconda3\\python.exe -m pip install --upgrade pip' command.\n"
     ]
    }
   ],
   "source": [
    "!pip install scikit-plot"
   ]
  },
  {
   "cell_type": "code",
   "execution_count": 2,
   "metadata": {},
   "outputs": [
    {
     "name": "stdout",
     "output_type": "stream",
     "text": [
      "Requirement already satisfied: cutmix-keras in c:\\users\\user\\anaconda3\\lib\\site-packages (1.0.0)\n",
      "Note: you may need to restart the kernel to use updated packages.\n"
     ]
    },
    {
     "name": "stderr",
     "output_type": "stream",
     "text": [
      "WARNING: You are using pip version 20.2.4; however, version 21.0.1 is available.\n",
      "You should consider upgrading via the 'C:\\Users\\user\\anaconda3\\python.exe -m pip install --upgrade pip' command.\n"
     ]
    }
   ],
   "source": [
    "pip install cutmix-keras"
   ]
  },
  {
   "cell_type": "code",
   "execution_count": 3,
   "metadata": {},
   "outputs": [],
   "source": [
    "from cutmix_keras import CutMixImageDataGenerator  # Import CutMix"
   ]
  },
  {
   "cell_type": "code",
   "execution_count": 4,
   "metadata": {
    "id": "qTaRVjl7FOZ7"
   },
   "outputs": [],
   "source": [
    "import os \n",
    "import timeit\n",
    "import numpy as np\n",
    "import random as rn\n",
    "import pandas as pd\n",
    "import seaborn as sns\n",
    "import matplotlib.pyplot as plt\n",
    "#import pydot\n",
    "from sklearn.metrics import classification_report, confusion_matrix\n",
    "from keras.wrappers.scikit_learn import KerasClassifier\n",
    "from sklearn.metrics import classification_report, confusion_matrix\n",
    "# Importing tensorflow\n",
    "import tensorflow as tf\n",
    "# Importing the Keras libraries and packages\n",
    "from tensorflow.keras.preprocessing.image import ImageDataGenerator\n",
    "#from tensorflow.keras.utils.vis_utils import plot_model\n",
    "from tensorflow.keras.losses import BinaryCrossentropy\n",
    "from tensorflow.keras.optimizers import SGD, RMSprop, Adam, Adadelta, Adagrad, Adamax, Nadam, Ftrl\n",
    "from tensorflow.keras.callbacks import EarlyStopping, ReduceLROnPlateau, TensorBoard\n",
    "from tensorflow.keras import metrics\n",
    "from keras.initializers import GlorotNormal\n",
    "from tensorflow.keras import models\n",
    "from tensorflow.keras import layers\n",
    "from tensorflow.keras import regularizers\n",
    "from tensorflow.keras import activations\n",
    "from tensorflow.keras import initializers\n",
    "import scikitplot as skplt"
   ]
  },
  {
   "cell_type": "code",
   "execution_count": 5,
   "metadata": {
    "id": "bpgTNxeTFJeR"
   },
   "outputs": [],
   "source": [
    "from tensorflow.keras import Model\n",
    "from tensorflow.keras.models import Sequential\n",
    "from tensorflow.keras.layers import Input, Convolution2D, MaxPool2D, BatchNormalization, Flatten, Dropout, Dense, Conv2D\n",
    "from tensorflow.keras.regularizers import l2\n",
    "from tensorflow.keras.activations import relu, sigmoid\n",
    "from tensorflow.keras.initializers import GlorotNormal"
   ]
  },
  {
   "cell_type": "code",
   "execution_count": 6,
   "metadata": {},
   "outputs": [],
   "source": [
    "from tensorflow.keras.losses import BinaryCrossentropy\n",
    "from tensorflow.keras.optimizers import Adam\n",
    "from tensorflow.keras.metrics import TruePositives, FalsePositives, TrueNegatives, FalseNegatives, BinaryAccuracy, Precision, Recall, AUC\n",
    "from tensorflow.keras.metrics import SpecificityAtSensitivity"
   ]
  },
  {
   "cell_type": "code",
   "execution_count": 7,
   "metadata": {
    "id": "wJzCBu_mFJeS"
   },
   "outputs": [],
   "source": [
    "import os\n",
    "os.environ['KMP_DUPLICATE_LIB_OK']='True'"
   ]
  },
  {
   "cell_type": "code",
   "execution_count": 8,
   "metadata": {},
   "outputs": [],
   "source": [
    "import os\n",
    "os.environ['PYTHONHASHSEED'] = '0'\n",
    "os.environ['CUDA_VISIBLE_DEVICES'] = ''\n",
    "np.random.seed(37)\n",
    "rn.seed(1254)\n",
    "tf.random.set_seed(89)"
   ]
  },
  {
   "cell_type": "code",
   "execution_count": 9,
   "metadata": {
    "id": "vfwW8RY-FJeS"
   },
   "outputs": [],
   "source": [
    "from time import time\n",
    "from tensorflow.python.keras.callbacks import TensorBoard"
   ]
  },
  {
   "cell_type": "code",
   "execution_count": 10,
   "metadata": {
    "id": "nSX615jTHomx"
   },
   "outputs": [],
   "source": [
    "import matplotlib.pyplot as plt\n",
    "from matplotlib import rcParams\n",
    "\n",
    "rcParams['figure.figsize'] = (12, 10)\n",
    "colors = plt.rcParams['axes.prop_cycle'].by_key()['color']"
   ]
  },
  {
   "cell_type": "markdown",
   "metadata": {},
   "source": [
    "### Function to be used later on the notebook."
   ]
  },
  {
   "cell_type": "code",
   "execution_count": 11,
   "metadata": {
    "id": "smDvxz2EMv4X"
   },
   "outputs": [],
   "source": [
    "# Plot the loss function. (Train, Validation)\n",
    "def plot_loss(history, title_label, n):\n",
    "    plt.semilogy(history.epoch,  history.history['loss'], color=colors[n], label='Train '+title_label)\n",
    "    plt.semilogy(history.epoch,  history.history['val_loss'], color=colors[n], label='Val '+title_label, linestyle=\"--\")\n",
    "    plt.xlabel('Epoch')\n",
    "    plt.ylabel('Loss')\n",
    "    plt.legend()"
   ]
  },
  {
   "cell_type": "code",
   "execution_count": 12,
   "metadata": {
    "id": "KP51FWvNMkT2"
   },
   "outputs": [],
   "source": [
    "# Plot the model accuracy. (Train, Validation) \n",
    "def plot_acc(history, title_label, n):\n",
    "    plt.semilogy(history.epoch,  history.history['accuracy'], color=colors[n], label='Train '+title_label)\n",
    "    plt.semilogy(history.epoch,  history.history['val_accuracy'], color=colors[n], label='Val '+title_label, linestyle=\"--\")\n",
    "    plt.xlabel('Epoch')\n",
    "    plt.ylabel('acc')\n",
    "    plt.legend()"
   ]
  },
  {
   "cell_type": "code",
   "execution_count": 13,
   "metadata": {
    "id": "cYTA7zB4NFPm"
   },
   "outputs": [],
   "source": [
    "# Plot the model metrics,\n",
    "def plot_metrics(history):\n",
    "    metrics = ['precision', 'recall', 'auc']\n",
    "    for n, metric in enumerate(metrics):\n",
    "        #name = metric.replace(\"_\",\" \").capitalize()\n",
    "        name = metric.capitalize()\n",
    "        plt.subplot(3, 2, n+1)  # adjust according to metrics\n",
    "        plt.plot(history.epoch,  history.history[metric], color=colors[0], label='Train')\n",
    "        plt.plot(history.epoch, history.history['val_'+metric], color=colors[0], linestyle=\"--\", label='Val')\n",
    "        plt.xlabel('Epoch')\n",
    "        plt.ylabel(name)\n",
    "    plt.legend()"
   ]
  },
  {
   "cell_type": "code",
   "execution_count": 14,
   "metadata": {},
   "outputs": [],
   "source": [
    "# Plot roc curve.\n",
    "from sklearn.metrics import roc_auc_score, roc_curve\n",
    "\n",
    "def plot_roc(name, labels, predictions, **kwargs):\n",
    "    fp, tp, _ = roc_curve(labels, predictions)\n",
    "    auc_roc = roc_auc_score(labels, predictions)\n",
    "    plt.plot(100*fp,100*tp,label=name +\" (\" + str(round(auc_roc, 3)) + \")\",linewidth=2, **kwargs)\n",
    "    plt.xlabel('False positives [%]')\n",
    "    plt.ylabel('True positives [%]')\n",
    "    plt.title('ROC curve')\n",
    "    plt.grid(True)\n",
    "    plt.legend(loc='best')\n",
    "    ax = plt.gca()\n",
    "    ax.set_aspect('equal')"
   ]
  },
  {
   "cell_type": "markdown",
   "metadata": {
    "id": "TvjkH_jkRpAZ"
   },
   "source": [
    "# Data exploration"
   ]
  },
  {
   "cell_type": "code",
   "execution_count": 15,
   "metadata": {
    "id": "4T-pT6VH7fcs"
   },
   "outputs": [],
   "source": [
    "train_directory = 'dataset/train'\n",
    "validation_directory = 'dataset/validation'\n",
    "test_directory = 'dataset/test'"
   ]
  },
  {
   "cell_type": "code",
   "execution_count": 16,
   "metadata": {
    "id": "fX1FMh8JFJeU"
   },
   "outputs": [],
   "source": [
    "import tensorflow as tf"
   ]
  },
  {
   "cell_type": "code",
   "execution_count": 17,
   "metadata": {
    "colab": {
     "base_uri": "https://localhost:8080/",
     "height": 35
    },
    "id": "xZAbdSm7GBAe",
    "outputId": "bdeb8be4-81a1-4c83-f142-6f7629c4cb09"
   },
   "outputs": [
    {
     "data": {
      "text/plain": [
       "''"
      ]
     },
     "execution_count": 17,
     "metadata": {},
     "output_type": "execute_result"
    }
   ],
   "source": [
    "tf.test.gpu_device_name()"
   ]
  },
  {
   "cell_type": "code",
   "execution_count": 18,
   "metadata": {
    "colab": {
     "base_uri": "https://localhost:8080/"
    },
    "id": "C0mgbsGMGA7p",
    "outputId": "6285d7d3-1ffb-4ccc-8eae-8fe6f5aae43f"
   },
   "outputs": [
    {
     "data": {
      "text/plain": [
       "[name: \"/device:CPU:0\"\n",
       " device_type: \"CPU\"\n",
       " memory_limit: 268435456\n",
       " locality {\n",
       " }\n",
       " incarnation: 12516137864867898807]"
      ]
     },
     "execution_count": 18,
     "metadata": {},
     "output_type": "execute_result"
    }
   ],
   "source": [
    "from tensorflow.python.client import device_lib\n",
    "device_lib.list_local_devices()"
   ]
  },
  {
   "cell_type": "code",
   "execution_count": 19,
   "metadata": {
    "id": "FnhW0b7I755D"
   },
   "outputs": [],
   "source": [
    "train_normal = os.path.join(train_directory, 'normal')\n",
    "train_opacity = os.path.join(train_directory, 'opacity')\n",
    "\n",
    "validation_normal = os.path.join(validation_directory, 'normal')\n",
    "validation_opacity = os.path.join(validation_directory, 'opacity')\n",
    "\n",
    "test_normal = os.path.join(test_directory, 'normal')\n",
    "test_opacity = os.path.join(test_directory, 'opacity')"
   ]
  },
  {
   "cell_type": "code",
   "execution_count": 20,
   "metadata": {
    "colab": {
     "base_uri": "https://localhost:8080/"
    },
    "id": "Rj5RL3A1_PYr",
    "outputId": "b1690c74-bb0a-4f74-8873-d82430991b6b"
   },
   "outputs": [
    {
     "data": {
      "text/plain": [
       "ocapity    0.741889\n",
       "normal     0.258111\n",
       "Name: data, dtype: float64"
      ]
     },
     "execution_count": 20,
     "metadata": {},
     "output_type": "execute_result"
    }
   ],
   "source": [
    "df_train = pd.DataFrame()\n",
    "df_train['data'] = ['normal']*len(os.listdir(train_normal)) +['ocapity']*len(os.listdir(train_opacity))\n",
    "df_train['data'].value_counts(normalize= True)"
   ]
  },
  {
   "cell_type": "code",
   "execution_count": 21,
   "metadata": {
    "colab": {
     "base_uri": "https://localhost:8080/",
     "height": 623
    },
    "id": "HrCWKKh3DAxp",
    "outputId": "1a465a66-205f-46b6-e699-be87dc95ba5f"
   },
   "outputs": [
    {
     "data": {
      "text/plain": [
       "<AxesSubplot:xlabel='count', ylabel='data'>"
      ]
     },
     "execution_count": 21,
     "metadata": {},
     "output_type": "execute_result"
    },
    {
     "data": {
      "image/png": "[encoded data removed]",
      "text/plain": [
       "<Figure size 864x720 with 1 Axes>"
      ]
     },
     "metadata": {
      "needs_background": "light"
     },
     "output_type": "display_data"
    }
   ],
   "source": [
    "sns.countplot(y='data', data = df_train, palette='viridis', orient = 'h')"
   ]
  },
  {
   "cell_type": "code",
   "execution_count": 22,
   "metadata": {
    "colab": {
     "base_uri": "https://localhost:8080/"
    },
    "id": "jvzWz7AqBD4K",
    "outputId": "4ab799ef-9328-444a-811f-5ad584223f2b"
   },
   "outputs": [
    {
     "data": {
      "text/plain": [
       "ocapity    0.743269\n",
       "normal     0.256731\n",
       "Name: data, dtype: float64"
      ]
     },
     "execution_count": 22,
     "metadata": {},
     "output_type": "execute_result"
    }
   ],
   "source": [
    "df_validation = pd.DataFrame()\n",
    "df_validation['data'] = ['normal']*len(os.listdir(validation_normal)) +['ocapity']*len(os.listdir(validation_opacity))\n",
    "df_validation['data'].value_counts(normalize= True)"
   ]
  },
  {
   "cell_type": "code",
   "execution_count": 23,
   "metadata": {
    "colab": {
     "base_uri": "https://localhost:8080/",
     "height": 623
    },
    "id": "mFVfCvV-C5Wr",
    "outputId": "4b821610-b8d7-4f88-e152-548b21db85a5"
   },
   "outputs": [
    {
     "data": {
      "text/plain": [
       "<AxesSubplot:xlabel='count', ylabel='data'>"
      ]
     },
     "execution_count": 23,
     "metadata": {},
     "output_type": "execute_result"
    },
    {
     "data": {
      "image/png": "[encoded data removed]",
      "text/plain": [
       "<Figure size 864x720 with 1 Axes>"
      ]
     },
     "metadata": {
      "needs_background": "light"
     },
     "output_type": "display_data"
    }
   ],
   "source": [
    "sns.countplot(y= 'data', data = df_validation, palette='viridis', orient='h')"
   ]
  },
  {
   "cell_type": "code",
   "execution_count": 24,
   "metadata": {
    "colab": {
     "base_uri": "https://localhost:8080/"
    },
    "id": "OJBM3aWODKh4",
    "outputId": "6593d4d3-860b-4dca-fa30-e68f8e3906a4"
   },
   "outputs": [
    {
     "data": {
      "text/plain": [
       "ocapity    0.625\n",
       "normal     0.375\n",
       "Name: data, dtype: float64"
      ]
     },
     "execution_count": 24,
     "metadata": {},
     "output_type": "execute_result"
    }
   ],
   "source": [
    "df_test = pd.DataFrame()\n",
    "df_test['data'] = ['normal']*len(os.listdir(test_normal)) +['ocapity']*len(os.listdir(test_opacity))\n",
    "df_test['data'].value_counts(normalize= True)"
   ]
  },
  {
   "cell_type": "code",
   "execution_count": 25,
   "metadata": {
    "colab": {
     "base_uri": "https://localhost:8080/",
     "height": 623
    },
    "id": "R0-2M9dbDLe2",
    "outputId": "32c3cc86-ffde-4e94-b463-2e018c027732"
   },
   "outputs": [
    {
     "data": {
      "text/plain": [
       "<AxesSubplot:xlabel='count', ylabel='data'>"
      ]
     },
     "execution_count": 25,
     "metadata": {},
     "output_type": "execute_result"
    },
    {
     "data": {
      "image/png": "[encoded data removed]",
      "text/plain": [
       "<Figure size 864x720 with 1 Axes>"
      ]
     },
     "metadata": {
      "needs_background": "light"
     },
     "output_type": "display_data"
    }
   ],
   "source": [
    "sns.countplot(y= 'data', data = df_test, palette='viridis', orient='h')"
   ]
  },
  {
   "cell_type": "code",
   "execution_count": 26,
   "metadata": {
    "id": "u76989rVGA3g"
   },
   "outputs": [],
   "source": [
    "EPOCHS = 100\n",
    "SEED = 42\n",
    "WIDTH = 64 #150\n",
    "HEIGHT = 64 #150 \n",
    "DEPTH = 1\n",
    "DEPTH_RGB = 3\n",
    "INPUT_SHAPE = (WIDTH, HEIGHT, DEPTH)\n",
    "TARGET_SIZE = (WIDTH , HEIGHT)\n",
    "BATCH_SIZE = 128    \n",
    "COLOR_MODE = 'grayscale'\n",
    "CLASS_MODE =  'categorical'  \n",
    "UNITS_DENSE = 32\n",
    "FEATURES_MAP = 32"
   ]
  },
  {
   "cell_type": "code",
   "execution_count": 27,
   "metadata": {
    "colab": {
     "base_uri": "https://localhost:8080/"
    },
    "id": "ohydmwxXGA0R",
    "outputId": "45fcb9f3-8c4b-458a-dbf3-5b5aca473e73"
   },
   "outputs": [
    {
     "name": "stdout",
     "output_type": "stream",
     "text": [
      "Found 4192 images belonging to 2 classes.\n",
      "Found 4192 images belonging to 2 classes.\n"
     ]
    }
   ],
   "source": [
    "train_datagen = ImageDataGenerator(rescale=1./255,\n",
    "                                   shear_range = 0.2,\n",
    "                                   vertical_flip = False,\n",
    "                                   horizontal_flip = False,\n",
    "                                   rotation_range = 15,\n",
    "                                   brightness_range = [0.9, 1.1],\n",
    "                                   zoom_range = 0.2                                  \n",
    "                                   )\n",
    "\n",
    "train_generator_1 = train_datagen.flow_from_directory(\n",
    "        directory = train_directory,  \n",
    "        target_size = TARGET_SIZE,   \n",
    "        batch_size = BATCH_SIZE,        \n",
    "        color_mode = COLOR_MODE,\n",
    "        class_mode= CLASS_MODE,    \n",
    "        shuffle = True, # required\n",
    "        )\n",
    "\n",
    "\n",
    "train_generator_2 = train_datagen.flow_from_directory(\n",
    "        directory = train_directory,  \n",
    "        target_size = TARGET_SIZE,   \n",
    "        batch_size = BATCH_SIZE,        \n",
    "        color_mode = COLOR_MODE,\n",
    "        class_mode= CLASS_MODE,    \n",
    "        shuffle = True, # required\n",
    "        )\n",
    "\n",
    "\n",
    "train_generator = CutMixImageDataGenerator(generator1=train_generator_1, generator2=train_generator_2, \n",
    "                                             img_size=TARGET_SIZE[0], batch_size=BATCH_SIZE,)"
   ]
  },
  {
   "cell_type": "code",
   "execution_count": 28,
   "metadata": {
    "colab": {
     "base_uri": "https://localhost:8080/"
    },
    "id": "zIeY8HUN5nBp",
    "outputId": "293cefe6-dcad-49ab-b2a2-f9901d8e30ea"
   },
   "outputs": [
    {
     "name": "stdout",
     "output_type": "stream",
     "text": [
      "Found 1040 images belonging to 2 classes.\n"
     ]
    }
   ],
   "source": [
    "validation_datagen = ImageDataGenerator(rescale=1./255)\n",
    "\n",
    "validation_generator = validation_datagen.flow_from_directory(\n",
    "        directory = validation_directory,\n",
    "        target_size = TARGET_SIZE,\n",
    "        batch_size = BATCH_SIZE,\n",
    "        color_mode = COLOR_MODE,\n",
    "        class_mode=  CLASS_MODE,    \n",
    "        shuffle = False, \n",
    "        )"
   ]
  },
  {
   "cell_type": "code",
   "execution_count": 29,
   "metadata": {
    "colab": {
     "base_uri": "https://localhost:8080/"
    },
    "id": "DeGfAmFo6u5n",
    "outputId": "462da804-0062-4a78-e075-3fc94c9b1dfa"
   },
   "outputs": [
    {
     "name": "stdout",
     "output_type": "stream",
     "text": [
      "Found 624 images belonging to 2 classes.\n"
     ]
    }
   ],
   "source": [
    "test_datagen = ImageDataGenerator(rescale=1./255)\n",
    "\n",
    "test_generator = test_datagen.flow_from_directory(\n",
    "        directory = test_directory,\n",
    "        target_size = TARGET_SIZE,\n",
    "        batch_size = BATCH_SIZE,\n",
    "        color_mode = COLOR_MODE,\n",
    "        class_mode = None,    \n",
    "        shuffle = False,\n",
    "        )"
   ]
  },
  {
   "cell_type": "code",
   "execution_count": 30,
   "metadata": {
    "id": "3ScXYxpFFJec"
   },
   "outputs": [],
   "source": [
    "TRAIN_STEPS_PER_EPOCH = np.math.ceil(train_generator.samples / train_generator.batch_size)\n",
    "VALIDATION_STEPS_PER_EPOCH = np.math.ceil(validation_generator.samples / validation_generator.batch_size)\n",
    "TEST_STEPS_PER_EPOCH = np.math.ceil(test_generator.samples / test_generator.batch_size)"
   ]
  },
  {
   "cell_type": "code",
   "execution_count": 31,
   "metadata": {
    "colab": {
     "base_uri": "https://localhost:8080/"
    },
    "id": "P0ZIT97DLZgj",
    "outputId": "13906fc3-a726-4860-b30c-13d18927adbf"
   },
   "outputs": [
    {
     "data": {
      "text/plain": [
       "{'normal': 0, 'opacity': 1}"
      ]
     },
     "execution_count": 31,
     "metadata": {},
     "output_type": "execute_result"
    }
   ],
   "source": [
    "train_generator.class_indices"
   ]
  },
  {
   "cell_type": "code",
   "execution_count": 32,
   "metadata": {
    "id": "8glNzM09FJef"
   },
   "outputs": [],
   "source": [
    "def our_model(filters, input_shape):\n",
    "    model = Sequential([Conv2D(filters[0], (3, 3),  padding='valid', activation='relu', input_shape=input_shape),\n",
    "                        #Conv2D(filters[1], (3, 3),  padding='same', kernel_regularizer=l2(0.001), activation='relu'),\n",
    "                        MaxPool2D(pool_size=(2, 2)),\n",
    "                        Conv2D(filters[1], (3, 3),  padding='valid',  kernel_regularizer=l2(0.001), activation='relu'), \n",
    "                        MaxPool2D(pool_size=(2, 2)),\n",
    "                        #Dropout(0.5),\n",
    "                        BatchNormalization(),\n",
    "                        Flatten(),\n",
    "                        Dense(units=128, activation='relu'),\n",
    "                        Dense(units=64, activation='relu'),\n",
    "                        Dropout(0.5),\n",
    "                        #BatchNormalization(),\n",
    "                        Dense(2, kernel_initializer=GlorotNormal(), activation='softmax')\n",
    "                       ])\n",
    "    return model"
   ]
  },
  {
   "cell_type": "code",
   "execution_count": 33,
   "metadata": {
    "colab": {
     "base_uri": "https://localhost:8080/"
    },
    "id": "Lu8GlPSjFJef",
    "outputId": "aa4f80a4-b272-4f49-9bf5-380badbbcd53"
   },
   "outputs": [
    {
     "name": "stdout",
     "output_type": "stream",
     "text": [
      "Model: \"sequential\"\n",
      "_________________________________________________________________\n",
      "Layer (type)                 Output Shape              Param #   \n",
      "=================================================================\n",
      "conv2d (Conv2D)              (None, 62, 62, 32)        320       \n",
      "_________________________________________________________________\n",
      "max_pooling2d (MaxPooling2D) (None, 31, 31, 32)        0         \n",
      "_________________________________________________________________\n",
      "conv2d_1 (Conv2D)            (None, 29, 29, 16)        4624      \n",
      "_________________________________________________________________\n",
      "max_pooling2d_1 (MaxPooling2 (None, 14, 14, 16)        0         \n",
      "_________________________________________________________________\n",
      "batch_normalization (BatchNo (None, 14, 14, 16)        64        \n",
      "_________________________________________________________________\n",
      "flatten (Flatten)            (None, 3136)              0         \n",
      "_________________________________________________________________\n",
      "dense (Dense)                (None, 128)               401536    \n",
      "_________________________________________________________________\n",
      "dense_1 (Dense)              (None, 64)                8256      \n",
      "_________________________________________________________________\n",
      "dropout (Dropout)            (None, 64)                0         \n",
      "_________________________________________________________________\n",
      "dense_2 (Dense)              (None, 2)                 130       \n",
      "=================================================================\n",
      "Total params: 414,930\n",
      "Trainable params: 414,898\n",
      "Non-trainable params: 32\n",
      "_________________________________________________________________\n"
     ]
    }
   ],
   "source": [
    "model = our_model([32, 16], INPUT_SHAPE)\n",
    "model.summary()"
   ]
  },
  {
   "cell_type": "code",
   "execution_count": 34,
   "metadata": {
    "id": "_oOkkq8fFJeg"
   },
   "outputs": [],
   "source": [
    "METRICS = [\n",
    "      FalseNegatives(name='fn'), \n",
    "      BinaryAccuracy(name='accuracy'),\n",
    "      Precision(name='precision'),\n",
    "      Recall(name='recall'),\n",
    "      AUC(name='auc'),\n",
    "]\n",
    "\n",
    "model.compile(loss= 'categorical_crossentropy', optimizer=Adam(lr = 1e-4, amsgrad = True), metrics=METRICS)"
   ]
  },
  {
   "cell_type": "code",
   "execution_count": 35,
   "metadata": {
    "id": "vso1M7CZFJeh"
   },
   "outputs": [],
   "source": [
    "from tensorflow.keras.callbacks import EarlyStopping\n",
    "\n",
    "CALLBACKS = [\n",
    "             EarlyStopping(monitor='val_accuracy', verbose=1, patience=15, mode='auto', restore_best_weights=True), \n",
    "            TensorBoard(log_dir='my_log_dir', histogram_freq=1)\n",
    "            ]"
   ]
  },
  {
   "cell_type": "code",
   "execution_count": 36,
   "metadata": {
    "colab": {
     "base_uri": "https://localhost:8080/"
    },
    "id": "gwvRCD0FFJeh",
    "outputId": "4af5938a-8f76-4b04-8253-3a06f01a67c5"
   },
   "outputs": [
    {
     "name": "stdout",
     "output_type": "stream",
     "text": [
      "Epoch 1/100\n",
      "33/33 [==============================] - 130s 4s/step - loss: 0.6807 - fn: 1164.6765 - accuracy: 0.4419 - precision: 0.8147 - recall: 0.5936 - auc: 0.7026 - val_loss: 0.6274 - val_fn: 267.0000 - val_accuracy: 0.7433 - val_precision: 0.7433 - val_recall: 0.7433 - val_auc: 0.8393\n",
      "Epoch 2/100\n",
      "33/33 [==============================] - 125s 4s/step - loss: 0.5031 - fn: 994.6765 - accuracy: 0.5611 - precision: 0.9345 - recall: 0.6805 - auc: 0.8664 - val_loss: 0.6200 - val_fn: 267.0000 - val_accuracy: 0.7433 - val_precision: 0.7433 - val_recall: 0.7433 - val_auc: 0.8858\n",
      "Epoch 3/100\n",
      "33/33 [==============================] - 119s 4s/step - loss: 0.4711 - fn: 971.5588 - accuracy: 0.5671 - precision: 0.9422 - recall: 0.6852 - auc: 0.8841 - val_loss: 0.6044 - val_fn: 242.0000 - val_accuracy: 0.7673 - val_precision: 0.7673 - val_recall: 0.7673 - val_auc: 0.9014\n",
      "Epoch 4/100\n",
      "33/33 [==============================] - 120s 4s/step - loss: 0.4519 - fn: 942.0882 - accuracy: 0.5784 - precision: 0.9483 - recall: 0.6923 - auc: 0.8867 - val_loss: 0.6360 - val_fn: 94.0000 - val_accuracy: 0.9096 - val_precision: 0.9096 - val_recall: 0.9096 - val_auc: 0.9653\n",
      "Epoch 5/100\n",
      "33/33 [==============================] - 119s 4s/step - loss: 0.4485 - fn: 948.5294 - accuracy: 0.5752 - precision: 0.9573 - recall: 0.6927 - auc: 0.8903 - val_loss: 0.6337 - val_fn: 87.0000 - val_accuracy: 0.9163 - val_precision: 0.9163 - val_recall: 0.9163 - val_auc: 0.9761\n",
      "Epoch 6/100\n",
      "33/33 [==============================] - 124s 4s/step - loss: 0.4364 - fn: 952.2941 - accuracy: 0.5748 - precision: 0.9609 - recall: 0.6933 - auc: 0.9004 - val_loss: 0.6321 - val_fn: 103.0000 - val_accuracy: 0.9010 - val_precision: 0.9010 - val_recall: 0.9010 - val_auc: 0.9676\n",
      "Epoch 7/100\n",
      "33/33 [==============================] - 123s 4s/step - loss: 0.4200 - fn: 947.6176 - accuracy: 0.5765 - precision: 0.9556 - recall: 0.6929 - auc: 0.8962 - val_loss: 0.5821 - val_fn: 71.0000 - val_accuracy: 0.9317 - val_precision: 0.9317 - val_recall: 0.9317 - val_auc: 0.9798\n",
      "Epoch 8/100\n",
      "33/33 [==============================] - 120s 4s/step - loss: 0.4092 - fn: 946.0882 - accuracy: 0.5809 - precision: 0.9684 - recall: 0.6980 - auc: 0.9077 - val_loss: 0.5477 - val_fn: 70.0000 - val_accuracy: 0.9327 - val_precision: 0.9327 - val_recall: 0.9327 - val_auc: 0.9809\n",
      "Epoch 9/100\n",
      "33/33 [==============================] - 121s 4s/step - loss: 0.4367 - fn: 948.1471 - accuracy: 0.5700 - precision: 0.9616 - recall: 0.6910 - auc: 0.8940 - val_loss: 0.5767 - val_fn: 127.0000 - val_accuracy: 0.8779 - val_precision: 0.8779 - val_recall: 0.8779 - val_auc: 0.9528\n",
      "Epoch 10/100\n",
      "33/33 [==============================] - 125s 4s/step - loss: 0.4138 - fn: 934.1176 - accuracy: 0.5799 - precision: 0.9611 - recall: 0.6959 - auc: 0.8987 - val_loss: 0.5131 - val_fn: 76.0000 - val_accuracy: 0.9269 - val_precision: 0.9269 - val_recall: 0.9269 - val_auc: 0.9801\n",
      "Epoch 11/100\n",
      "33/33 [==============================] - 118s 4s/step - loss: 0.4207 - fn: 963.8529 - accuracy: 0.5654 - precision: 0.9583 - recall: 0.6880 - auc: 0.9001 - val_loss: 0.4635 - val_fn: 63.0000 - val_accuracy: 0.9394 - val_precision: 0.9394 - val_recall: 0.9394 - val_auc: 0.9854\n",
      "Epoch 12/100\n",
      "33/33 [==============================] - 135s 4s/step - loss: 0.4029 - fn: 894.3824 - accuracy: 0.5974 - precision: 0.9653 - recall: 0.7057 - auc: 0.9039 - val_loss: 0.4611 - val_fn: 80.0000 - val_accuracy: 0.9231 - val_precision: 0.9231 - val_recall: 0.9231 - val_auc: 0.9820\n",
      "Epoch 13/100\n",
      "33/33 [==============================] - 115s 4s/step - loss: 0.4024 - fn: 949.1765 - accuracy: 0.5699 - precision: 0.9599 - recall: 0.6906 - auc: 0.9056 - val_loss: 0.3672 - val_fn: 55.0000 - val_accuracy: 0.9471 - val_precision: 0.9471 - val_recall: 0.9471 - val_auc: 0.9837\n",
      "Epoch 14/100\n",
      "33/33 [==============================] - 141s 4s/step - loss: 0.4010 - fn: 913.6765 - accuracy: 0.5941 - precision: 0.9650 - recall: 0.7040 - auc: 0.9041 - val_loss: 0.3552 - val_fn: 66.0000 - val_accuracy: 0.9365 - val_precision: 0.9365 - val_recall: 0.9365 - val_auc: 0.9861\n",
      "Epoch 15/100\n",
      "33/33 [==============================] - 130s 4s/step - loss: 0.3926 - fn: 917.3824 - accuracy: 0.5895 - precision: 0.9715 - recall: 0.7030 - auc: 0.9045 - val_loss: 0.4532 - val_fn: 144.0000 - val_accuracy: 0.8615 - val_precision: 0.8615 - val_recall: 0.8615 - val_auc: 0.9482\n",
      "Epoch 16/100\n",
      "33/33 [==============================] - 133s 4s/step - loss: 0.3888 - fn: 927.2353 - accuracy: 0.5866 - precision: 0.9642 - recall: 0.7000 - auc: 0.9079 - val_loss: 0.4489 - val_fn: 134.0000 - val_accuracy: 0.8712 - val_precision: 0.8712 - val_recall: 0.8712 - val_auc: 0.9523\n",
      "Epoch 17/100\n",
      "33/33 [==============================] - 131s 4s/step - loss: 0.3955 - fn: 936.2941 - accuracy: 0.5799 - precision: 0.9659 - recall: 0.6969 - auc: 0.9030 - val_loss: 0.3699 - val_fn: 105.0000 - val_accuracy: 0.8995 - val_precision: 0.8999 - val_recall: 0.8990 - val_auc: 0.9701\n",
      "Epoch 18/100\n",
      "33/33 [==============================] - 142s 4s/step - loss: 0.4043 - fn: 940.1765 - accuracy: 0.5756 - precision: 0.9623 - recall: 0.6940 - auc: 0.8993 - val_loss: 0.2702 - val_fn: 65.0000 - val_accuracy: 0.9375 - val_precision: 0.9375 - val_recall: 0.9375 - val_auc: 0.9858\n",
      "Epoch 19/100\n",
      "33/33 [==============================] - 135s 4s/step - loss: 0.3877 - fn: 927.1471 - accuracy: 0.5827 - precision: 0.9714 - recall: 0.6995 - auc: 0.9066 - val_loss: 0.4131 - val_fn: 160.0000 - val_accuracy: 0.8462 - val_precision: 0.8462 - val_recall: 0.8462 - val_auc: 0.9312\n",
      "Epoch 20/100\n",
      "33/33 [==============================] - 142s 4s/step - loss: 0.3739 - fn: 888.7941 - accuracy: 0.6036 - precision: 0.9662 - recall: 0.7091 - auc: 0.9109 - val_loss: 0.3383 - val_fn: 100.0000 - val_accuracy: 0.9038 - val_precision: 0.9038 - val_recall: 0.9038 - val_auc: 0.9732\n",
      "Epoch 21/100\n",
      "33/33 [==============================] - 145s 5s/step - loss: 0.3838 - fn: 913.3529 - accuracy: 0.5909 - precision: 0.9721 - recall: 0.7038 - auc: 0.9083 - val_loss: 0.4137 - val_fn: 178.0000 - val_accuracy: 0.8288 - val_precision: 0.8288 - val_recall: 0.8288 - val_auc: 0.9213\n",
      "Epoch 22/100\n",
      "33/33 [==============================] - 135s 4s/step - loss: 0.3987 - fn: 957.2059 - accuracy: 0.5729 - precision: 0.9605 - recall: 0.6923 - auc: 0.9053 - val_loss: 0.2717 - val_fn: 81.0000 - val_accuracy: 0.9221 - val_precision: 0.9221 - val_recall: 0.9221 - val_auc: 0.9837\n",
      "Epoch 23/100\n",
      "33/33 [==============================] - 137s 4s/step - loss: 0.3851 - fn: 920.9412 - accuracy: 0.5876 - precision: 0.9651 - recall: 0.7006 - auc: 0.9090 - val_loss: 0.2866 - val_fn: 94.0000 - val_accuracy: 0.9096 - val_precision: 0.9096 - val_recall: 0.9096 - val_auc: 0.9771\n",
      "Epoch 24/100\n",
      "33/33 [==============================] - 136s 4s/step - loss: 0.3948 - fn: 935.7059 - accuracy: 0.5752 - precision: 0.9720 - recall: 0.6959 - auc: 0.9069 - val_loss: 0.3205 - val_fn: 114.0000 - val_accuracy: 0.8904 - val_precision: 0.8904 - val_recall: 0.8904 - val_auc: 0.9621\n",
      "Epoch 25/100\n",
      "33/33 [==============================] - 141s 4s/step - loss: 0.3830 - fn: 907.5588 - accuracy: 0.5901 - precision: 0.9711 - recall: 0.7032 - auc: 0.9106 - val_loss: 0.1946 - val_fn: 70.0000 - val_accuracy: 0.9327 - val_precision: 0.9327 - val_recall: 0.9327 - val_auc: 0.9877\n",
      "Epoch 26/100\n",
      "33/33 [==============================] - 140s 4s/step - loss: 0.3786 - fn: 920.3529 - accuracy: 0.5933 - precision: 0.9722 - recall: 0.7051 - auc: 0.9111 - val_loss: 0.1934 - val_fn: 62.0000 - val_accuracy: 0.9404 - val_precision: 0.9404 - val_recall: 0.9404 - val_auc: 0.9891\n",
      "Epoch 27/100\n",
      "33/33 [==============================] - 133s 4s/step - loss: 0.3649 - fn: 935.0294 - accuracy: 0.5800 - precision: 0.9762 - recall: 0.6993 - auc: 0.9153 - val_loss: 0.2827 - val_fn: 117.0000 - val_accuracy: 0.8875 - val_precision: 0.8875 - val_recall: 0.8875 - val_auc: 0.9691\n",
      "Epoch 28/100\n",
      "33/33 [==============================] - 135s 4s/step - loss: 0.3634 - fn: 935.4706 - accuracy: 0.5870 - precision: 0.9747 - recall: 0.7025 - auc: 0.9140 - val_loss: 0.2656 - val_fn: 103.0000 - val_accuracy: 0.9010 - val_precision: 0.9010 - val_recall: 0.9010 - val_auc: 0.9766\n",
      "Restoring model weights from the end of the best epoch.\n",
      "Epoch 00028: early stopping\n",
      "Time:  60.895397596666676\n"
     ]
    },
    {
     "name": "stdout",
     "output_type": "stream",
     "text": [
      "INFO:tensorflow:Assets written to: model_base\\assets\n"
     ]
    }
   ],
   "source": [
    "start = timeit.default_timer()\n",
    "\n",
    "history = model.fit(\n",
    "      train_generator,  \n",
    "      steps_per_epoch = train_generator.get_steps_per_epoch(), #TRAIN_STEPS_PER_EPOCH,    \n",
    "      epochs = EPOCHS,\n",
    "      validation_data = validation_generator,\n",
    "      validation_steps = VALIDATION_STEPS_PER_EPOCH,  \n",
    "      shuffle= False,   \n",
    "      callbacks = CALLBACKS,\n",
    "      verbose = 1, \n",
    ")\n",
    "\n",
    "stop = timeit.default_timer()\n",
    "\n",
    "print('Time: ', (stop - start)/60)\n",
    "\n",
    "model.save('model_base')"
   ]
  },
  {
   "cell_type": "code",
   "execution_count": 37,
   "metadata": {
    "id": "agenpObSQVyW"
   },
   "outputs": [
    {
     "name": "stdout",
     "output_type": "stream",
     "text": [
      "INFO:tensorflow:Assets written to: model_base\\assets\n"
     ]
    }
   ],
   "source": [
    "model.save(\"model_base\")"
   ]
  },
  {
   "cell_type": "code",
   "execution_count": 38,
   "metadata": {
    "id": "DwwhpHdxRBm3"
   },
   "outputs": [],
   "source": [
    "# It can be used to reconstruct the model identically.\n",
    "#reconstructed_model = keras.models.load_model(\"my_model\")"
   ]
  },
  {
   "cell_type": "code",
   "execution_count": 39,
   "metadata": {
    "id": "7nRPJuCZFJei"
   },
   "outputs": [
    {
     "data": {
      "image/png": "[encoded data removed]",
      "text/plain": [
       "<Figure size 864x720 with 1 Axes>"
      ]
     },
     "metadata": {
      "needs_background": "light"
     },
     "output_type": "display_data"
    }
   ],
   "source": [
    "plot_loss(history, \"Model Base\", 1)"
   ]
  },
  {
   "cell_type": "code",
   "execution_count": 40,
   "metadata": {
    "id": "nBC0dV5uFJei"
   },
   "outputs": [
    {
     "data": {
      "image/png": "[encoded data removed]",
      "text/plain": [
       "<Figure size 864x720 with 1 Axes>"
      ]
     },
     "metadata": {
      "needs_background": "light"
     },
     "output_type": "display_data"
    }
   ],
   "source": [
    "plot_acc(history, \"Model Base\", 1)"
   ]
  },
  {
   "cell_type": "code",
   "execution_count": 41,
   "metadata": {
    "id": "pKlN4RrrFJej",
    "scrolled": true
   },
   "outputs": [
    {
     "data": {
      "image/png": "[encoded data removed]",
      "text/plain": [
       "<Figure size 864x720 with 3 Axes>"
      ]
     },
     "metadata": {
      "needs_background": "light"
     },
     "output_type": "display_data"
    }
   ],
   "source": [
    "plot_metrics(history)"
   ]
  },
  {
   "cell_type": "code",
   "execution_count": 42,
   "metadata": {
    "id": "fqaOt9YEFJel"
   },
   "outputs": [],
   "source": [
    "Y_validation_proba = model.predict(validation_generator, steps = VALIDATION_STEPS_PER_EPOCH)  "
   ]
  },
  {
   "cell_type": "code",
   "execution_count": 43,
   "metadata": {
    "id": "mf_VQhPQv0s7"
   },
   "outputs": [
    {
     "data": {
      "text/plain": [
       "<AxesSubplot:title={'center':'ROC Curves'}, xlabel='False Positive Rate', ylabel='True Positive Rate'>"
      ]
     },
     "execution_count": 43,
     "metadata": {},
     "output_type": "execute_result"
    },
    {
     "data": {
      "image/png": "[encoded data removed]",
      "text/plain": [
       "<Figure size 864x720 with 1 Axes>"
      ]
     },
     "metadata": {
      "needs_background": "light"
     },
     "output_type": "display_data"
    }
   ],
   "source": [
    "skplt.metrics.plot_roc(validation_generator.classes, Y_validation_proba)"
   ]
  },
  {
   "cell_type": "code",
   "execution_count": 44,
   "metadata": {
    "id": "WYrIBZrOwLBf"
   },
   "outputs": [],
   "source": [
    "# skplt.metrics.plot_ks_statistic(validation_generator.classes, Y_validation_proba)"
   ]
  },
  {
   "cell_type": "code",
   "execution_count": 45,
   "metadata": {
    "id": "aK1rCsZDwX-l"
   },
   "outputs": [],
   "source": [
    "Y_validation_pred = (Y_validation_proba[:,1] > 0.5)*1"
   ]
  },
  {
   "cell_type": "code",
   "execution_count": 46,
   "metadata": {
    "id": "0R4mw9F1wgxG"
   },
   "outputs": [
    {
     "data": {
      "text/plain": [
       "<AxesSubplot:title={'center':'Confusion Matrix'}, xlabel='Predicted label', ylabel='True label'>"
      ]
     },
     "execution_count": 46,
     "metadata": {},
     "output_type": "execute_result"
    },
    {
     "data": {
      "image/png": "[encoded data removed]",
      "text/plain": [
       "<Figure size 864x720 with 2 Axes>"
      ]
     },
     "metadata": {
      "needs_background": "light"
     },
     "output_type": "display_data"
    }
   ],
   "source": [
    "skplt.metrics.plot_confusion_matrix(validation_generator.classes, Y_validation_pred, normalize=False)"
   ]
  },
  {
   "cell_type": "code",
   "execution_count": 47,
   "metadata": {
    "id": "sOvShw4HFJen"
   },
   "outputs": [
    {
     "name": "stdout",
     "output_type": "stream",
     "text": [
      "Classification Report\n",
      "              precision    recall  f1-score   support\n",
      "\n",
      "      normal       0.92      0.87      0.89       267\n",
      "     opacity       0.95      0.98      0.96       773\n",
      "\n",
      "    accuracy                           0.95      1040\n",
      "   macro avg       0.94      0.92      0.93      1040\n",
      "weighted avg       0.95      0.95      0.95      1040\n",
      "\n"
     ]
    }
   ],
   "source": [
    "print('Classification Report')\n",
    "target_names = ['normal', 'opacity'] \n",
    "print(classification_report(validation_generator.classes, Y_validation_pred, target_names=target_names))"
   ]
  },
  {
   "cell_type": "code",
   "execution_count": 48,
   "metadata": {
    "id": "EAq1vD84FJen"
   },
   "outputs": [],
   "source": [
    "Y_test_proba = model.predict(test_generator, steps = TEST_STEPS_PER_EPOCH)  "
   ]
  },
  {
   "cell_type": "code",
   "execution_count": 49,
   "metadata": {
    "id": "fx7O-n0Lxoix"
   },
   "outputs": [
    {
     "data": {
      "text/plain": [
       "<AxesSubplot:title={'center':'ROC Curves'}, xlabel='False Positive Rate', ylabel='True Positive Rate'>"
      ]
     },
     "execution_count": 49,
     "metadata": {},
     "output_type": "execute_result"
    },
    {
     "data": {
      "image/png": "[encoded data removed]",
      "text/plain": [
       "<Figure size 864x720 with 1 Axes>"
      ]
     },
     "metadata": {
      "needs_background": "light"
     },
     "output_type": "display_data"
    }
   ],
   "source": [
    "skplt.metrics.plot_roc(test_generator.classes, Y_test_proba)"
   ]
  },
  {
   "cell_type": "code",
   "execution_count": 50,
   "metadata": {
    "id": "Rn0tQfPKxz1i"
   },
   "outputs": [],
   "source": [
    "#skplt.metrics.plot_ks_statistic(test_generator.classes, Y_test_proba)"
   ]
  },
  {
   "cell_type": "code",
   "execution_count": 51,
   "metadata": {
    "id": "j2AZrPFhytMD"
   },
   "outputs": [],
   "source": [
    "Y_test_pred = (Y_test_proba[:,1] > 0.5)*1"
   ]
  },
  {
   "cell_type": "code",
   "execution_count": 52,
   "metadata": {
    "id": "zRMAMQ7nywnh"
   },
   "outputs": [
    {
     "data": {
      "text/plain": [
       "<AxesSubplot:title={'center':'Confusion Matrix'}, xlabel='Predicted label', ylabel='True label'>"
      ]
     },
     "execution_count": 52,
     "metadata": {},
     "output_type": "execute_result"
    },
    {
     "data": {
      "image/png": "[encoded data removed]",
      "text/plain": [
       "<Figure size 864x720 with 2 Axes>"
      ]
     },
     "metadata": {
      "needs_background": "light"
     },
     "output_type": "display_data"
    }
   ],
   "source": [
    "skplt.metrics.plot_confusion_matrix(test_generator.classes, Y_test_pred, normalize=False)"
   ]
  },
  {
   "cell_type": "code",
   "execution_count": 53,
   "metadata": {
    "id": "gwRuNd3bFJeo"
   },
   "outputs": [
    {
     "name": "stdout",
     "output_type": "stream",
     "text": [
      "Classification Report\n",
      "              precision    recall  f1-score   support\n",
      "\n",
      "      normal       0.94      0.56      0.70       234\n",
      "     opacity       0.79      0.98      0.87       390\n",
      "\n",
      "    accuracy                           0.82       624\n",
      "   macro avg       0.87      0.77      0.79       624\n",
      "weighted avg       0.85      0.82      0.81       624\n",
      "\n"
     ]
    }
   ],
   "source": [
    "print('Classification Report')\n",
    "target_names = ['normal', 'opacity'] \n",
    "print(classification_report(test_generator.classes, Y_test_pred, target_names=target_names))"
   ]
  },
  {
   "cell_type": "code",
   "execution_count": 54,
   "metadata": {
    "id": "INZSClFLFJeo"
   },
   "outputs": [
    {
     "data": {
      "text/plain": [
       "<matplotlib.legend.Legend at 0x210e9f77f40>"
      ]
     },
     "execution_count": 54,
     "metadata": {},
     "output_type": "execute_result"
    },
    {
     "data": {
      "image/png": "[encoded data removed]",
      "text/plain": [
       "<Figure size 864x720 with 1 Axes>"
      ]
     },
     "metadata": {
      "needs_background": "light"
     },
     "output_type": "display_data"
    }
   ],
   "source": [
    "plot_roc(\"Validation Base\", validation_generator.classes, Y_validation_pred, color=colors[0], linestyle='--')\n",
    "plot_roc(\"Test Base\", test_generator.classes, Y_test_pred, color=colors[0], linestyle='-.')\n",
    "\n",
    "plt.legend(loc='lower right')"
   ]
  },
  {
   "cell_type": "markdown",
   "metadata": {
    "id": "353OhpwPFJep"
   },
   "source": [
    "# Class Weights"
   ]
  },
  {
   "cell_type": "code",
   "execution_count": 55,
   "metadata": {
    "id": "Ly_Shy7TPJnc"
   },
   "outputs": [
    {
     "data": {
      "text/plain": [
       "{0: 0.25811068702290074, 1: 0.7418893129770993}"
      ]
     },
     "execution_count": 55,
     "metadata": {},
     "output_type": "execute_result"
    }
   ],
   "source": [
    "from collections import Counter\n",
    "itemCt = Counter(train_generator_1.classes)\n",
    "sumCt = float(sum(itemCt.values()))\n",
    "cw = {clsID : numImg/sumCt for clsID, numImg in itemCt.items()}\n",
    "cw"
   ]
  },
  {
   "cell_type": "code",
   "execution_count": 56,
   "metadata": {
    "id": "Qcz5eaCqFJep"
   },
   "outputs": [],
   "source": [
    "model_cw = our_model([32, 16], INPUT_SHAPE)"
   ]
  },
  {
   "cell_type": "code",
   "execution_count": 57,
   "metadata": {
    "id": "dcasBgWmFJep"
   },
   "outputs": [],
   "source": [
    "model_cw.compile(loss = 'categorical_crossentropy',  \n",
    "              optimizer=Adam(lr = 1e-4, amsgrad = True),\n",
    "              metrics=METRICS)"
   ]
  },
  {
   "cell_type": "code",
   "execution_count": null,
   "metadata": {
    "id": "ELN1T522FJeq"
   },
   "outputs": [
    {
     "name": "stdout",
     "output_type": "stream",
     "text": [
      "Epoch 1/100\n",
      "33/33 [==============================] - 96s 3s/step - loss: 0.3632 - fn: 781.7941 - accuracy: 0.7669 - precision: 0.7669 - recall: 0.7669 - auc: 0.8365 - val_loss: 0.6158 - val_fn: 267.0000 - val_accuracy: 0.7433 - val_precision: 0.7433 - val_recall: 0.7433 - val_auc: 0.7867\n",
      "Epoch 2/100\n",
      "33/33 [==============================] - 80s 2s/step - loss: 0.1768 - fn: 479.5588 - accuracy: 0.7799 - precision: 0.7799 - recall: 0.7799 - auc: 0.8838 - val_loss: 0.5863 - val_fn: 267.0000 - val_accuracy: 0.7433 - val_precision: 0.7433 - val_recall: 0.7433 - val_auc: 0.8554\n",
      "Epoch 3/100\n",
      "33/33 [==============================] - 79s 2s/step - loss: 0.1503 - fn: 387.4412 - accuracy: 0.8184 - precision: 0.8184 - recall: 0.8184 - auc: 0.9183 - val_loss: 0.5584 - val_fn: 263.0000 - val_accuracy: 0.7471 - val_precision: 0.7471 - val_recall: 0.7471 - val_auc: 0.8930\n",
      "Epoch 4/100\n",
      "33/33 [==============================] - 78s 2s/step - loss: 0.1259 - fn: 304.8235 - accuracy: 0.8614 - precision: 0.8614 - recall: 0.8614 - auc: 0.9468 - val_loss: 0.5405 - val_fn: 229.0000 - val_accuracy: 0.7798 - val_precision: 0.7798 - val_recall: 0.7798 - val_auc: 0.9073\n",
      "Epoch 5/100\n",
      "33/33 [==============================] - 78s 2s/step - loss: 0.1197 - fn: 271.1765 - accuracy: 0.8775 - precision: 0.8775 - recall: 0.8775 - auc: 0.9542 - val_loss: 0.5231 - val_fn: 175.0000 - val_accuracy: 0.8317 - val_precision: 0.8317 - val_recall: 0.8317 - val_auc: 0.9308\n",
      "Epoch 6/100\n",
      "33/33 [==============================] - 77s 2s/step - loss: 0.1059 - fn: 231.2647 - accuracy: 0.9005 - precision: 0.9005 - recall: 0.9005 - auc: 0.9678 - val_loss: 0.5079 - val_fn: 92.0000 - val_accuracy: 0.9115 - val_precision: 0.9115 - val_recall: 0.9115 - val_auc: 0.9646\n",
      "Epoch 7/100\n",
      "33/33 [==============================] - 85s 3s/step - loss: 0.1082 - fn: 236.6176 - accuracy: 0.8935 - precision: 0.8935 - recall: 0.8935 - auc: 0.9633 - val_loss: 0.4613 - val_fn: 103.0000 - val_accuracy: 0.9010 - val_precision: 0.9010 - val_recall: 0.9010 - val_auc: 0.9570\n",
      "Epoch 8/100\n",
      "33/33 [==============================] - 80s 2s/step - loss: 0.0988 - fn: 210.4706 - accuracy: 0.9063 - precision: 0.9063 - recall: 0.9063 - auc: 0.9704 - val_loss: 0.4295 - val_fn: 81.0000 - val_accuracy: 0.9221 - val_precision: 0.9221 - val_recall: 0.9221 - val_auc: 0.9697\n",
      "Epoch 9/100\n",
      "33/33 [==============================] - 103s 3s/step - loss: 0.0981 - fn: 202.5000 - accuracy: 0.9052 - precision: 0.9052 - recall: 0.9052 - auc: 0.9701 - val_loss: 0.4062 - val_fn: 73.0000 - val_accuracy: 0.9298 - val_precision: 0.9298 - val_recall: 0.9298 - val_auc: 0.9739\n",
      "Epoch 10/100\n",
      "33/33 [==============================] - 94s 3s/step - loss: 0.0938 - fn: 199.2353 - accuracy: 0.9150 - precision: 0.9150 - recall: 0.9150 - auc: 0.9732 - val_loss: 0.4233 - val_fn: 79.0000 - val_accuracy: 0.9240 - val_precision: 0.9240 - val_recall: 0.9240 - val_auc: 0.9765\n",
      "Epoch 11/100\n",
      "33/33 [==============================] - 82s 2s/step - loss: 0.0963 - fn: 184.0000 - accuracy: 0.9177 - precision: 0.9177 - recall: 0.9177 - auc: 0.9744 - val_loss: 0.3473 - val_fn: 70.0000 - val_accuracy: 0.9327 - val_precision: 0.9327 - val_recall: 0.9327 - val_auc: 0.9749\n",
      "Epoch 12/100\n",
      "33/33 [==============================] - 83s 3s/step - loss: 0.0887 - fn: 195.5588 - accuracy: 0.9124 - precision: 0.9124 - recall: 0.9124 - auc: 0.9732 - val_loss: 0.3384 - val_fn: 70.0000 - val_accuracy: 0.9327 - val_precision: 0.9327 - val_recall: 0.9327 - val_auc: 0.9782\n",
      "Epoch 13/100\n",
      "33/33 [==============================] - 83s 3s/step - loss: 0.0864 - fn: 174.2941 - accuracy: 0.9258 - precision: 0.9258 - recall: 0.9258 - auc: 0.9793 - val_loss: 0.3198 - val_fn: 70.0000 - val_accuracy: 0.9327 - val_precision: 0.9327 - val_recall: 0.9327 - val_auc: 0.9769\n",
      "Epoch 14/100\n",
      "33/33 [==============================] - 81s 2s/step - loss: 0.0854 - fn: 185.1471 - accuracy: 0.9193 - precision: 0.9193 - recall: 0.9193 - auc: 0.9763 - val_loss: 0.2697 - val_fn: 73.0000 - val_accuracy: 0.9298 - val_precision: 0.9298 - val_recall: 0.9298 - val_auc: 0.9751\n",
      "Epoch 15/100\n",
      "33/33 [==============================] - 81s 2s/step - loss: 0.0820 - fn: 162.3235 - accuracy: 0.9292 - precision: 0.9292 - recall: 0.9292 - auc: 0.9801 - val_loss: 0.2599 - val_fn: 70.0000 - val_accuracy: 0.9327 - val_precision: 0.9327 - val_recall: 0.9327 - val_auc: 0.9778\n",
      "Epoch 16/100\n",
      "33/33 [==============================] - 84s 3s/step - loss: 0.0756 - fn: 148.4118 - accuracy: 0.9374 - precision: 0.9374 - recall: 0.9374 - auc: 0.9841 - val_loss: 0.2489 - val_fn: 68.0000 - val_accuracy: 0.9346 - val_precision: 0.9346 - val_recall: 0.9346 - val_auc: 0.9786\n",
      "Epoch 17/100\n",
      "33/33 [==============================] - 80s 2s/step - loss: 0.0806 - fn: 163.4706 - accuracy: 0.9297 - precision: 0.9297 - recall: 0.9297 - auc: 0.9815 - val_loss: 0.2301 - val_fn: 66.0000 - val_accuracy: 0.9365 - val_precision: 0.9365 - val_recall: 0.9365 - val_auc: 0.9746\n",
      "Epoch 18/100\n",
      "33/33 [==============================] - 83s 3s/step - loss: 0.0761 - fn: 155.2353 - accuracy: 0.9327 - precision: 0.9327 - recall: 0.9327 - auc: 0.9822 - val_loss: 0.2135 - val_fn: 63.0000 - val_accuracy: 0.9394 - val_precision: 0.9394 - val_recall: 0.9394 - val_auc: 0.9771\n",
      "Epoch 19/100\n",
      "33/33 [==============================] - 82s 3s/step - loss: 0.0763 - fn: 149.1176 - accuracy: 0.9330 - precision: 0.9330 - recall: 0.9330 - auc: 0.9837 - val_loss: 0.2199 - val_fn: 65.0000 - val_accuracy: 0.9375 - val_precision: 0.9375 - val_recall: 0.9375 - val_auc: 0.9817\n",
      "Epoch 20/100\n",
      "33/33 [==============================] - 86s 3s/step - loss: 0.0757 - fn: 151.0000 - accuracy: 0.9320 - precision: 0.9320 - recall: 0.9320 - auc: 0.9826 - val_loss: 0.2357 - val_fn: 68.0000 - val_accuracy: 0.9346 - val_precision: 0.9346 - val_recall: 0.9346 - val_auc: 0.9721\n",
      "Epoch 21/100\n",
      "33/33 [==============================] - 91s 3s/step - loss: 0.0790 - fn: 155.2059 - accuracy: 0.9263 - precision: 0.9263 - recall: 0.9263 - auc: 0.9808 - val_loss: 0.1884 - val_fn: 60.0000 - val_accuracy: 0.9423 - val_precision: 0.9423 - val_recall: 0.9423 - val_auc: 0.9820\n",
      "Epoch 22/100\n",
      "33/33 [==============================] - 82s 2s/step - loss: 0.0714 - fn: 136.6471 - accuracy: 0.9399 - precision: 0.9399 - recall: 0.9399 - auc: 0.9836 - val_loss: 0.1846 - val_fn: 63.0000 - val_accuracy: 0.9394 - val_precision: 0.9394 - val_recall: 0.9394 - val_auc: 0.9847\n",
      "Epoch 23/100\n",
      "33/33 [==============================] - 94s 3s/step - loss: 0.0747 - fn: 139.2941 - accuracy: 0.9372 - precision: 0.9372 - recall: 0.9372 - auc: 0.9822 - val_loss: 0.1782 - val_fn: 54.0000 - val_accuracy: 0.9481 - val_precision: 0.9481 - val_recall: 0.9481 - val_auc: 0.9835\n",
      "Epoch 24/100\n",
      "13/33 [==========>...................] - ETA: 40s - loss: 0.0641 - fn: 52.2308 - accuracy: 0.9448 - precision: 0.9448 - recall: 0.9448 - auc: 0.9895"
     ]
    }
   ],
   "source": [
    "start = timeit.default_timer()\n",
    "\n",
    "history_cw = model_cw.fit(\n",
    "      train_generator_1,  \n",
    "      steps_per_epoch = TRAIN_STEPS_PER_EPOCH,    \n",
    "      epochs = EPOCHS,\n",
    "      validation_data = validation_generator,\n",
    "      validation_steps = VALIDATION_STEPS_PER_EPOCH,  \n",
    "      shuffle= False,   \n",
    "      callbacks = CALLBACKS,\n",
    "      verbose = 1,\n",
    "      class_weight = cw \n",
    ")\n",
    "\n",
    "stop = timeit.default_timer()\n",
    "\n",
    "print('Time: ', (stop - start)/60)\n",
    "\n",
    "model.save('model_base_cw')"
   ]
  },
  {
   "cell_type": "code",
   "execution_count": null,
   "metadata": {
    "id": "fBvu5W8zQhqY"
   },
   "outputs": [],
   "source": [
    "model_cw.save(\"model_cw\")"
   ]
  },
  {
   "cell_type": "code",
   "execution_count": null,
   "metadata": {
    "id": "nfpEIFXVFJeq"
   },
   "outputs": [],
   "source": [
    "plot_loss(history_cw, \"Model Base\", 1)"
   ]
  },
  {
   "cell_type": "code",
   "execution_count": null,
   "metadata": {},
   "outputs": [],
   "source": [
    "plot_acc(history_cw, \"Model cw\", 1)"
   ]
  },
  {
   "cell_type": "code",
   "execution_count": null,
   "metadata": {
    "id": "_n4GHwWYFJeq"
   },
   "outputs": [],
   "source": [
    "plot_metrics(history_cw)"
   ]
  },
  {
   "cell_type": "code",
   "execution_count": null,
   "metadata": {
    "id": "sbjWKjJDFJes"
   },
   "outputs": [],
   "source": [
    "Y_validation_proba_cw = model_cw.predict(validation_generator, steps = VALIDATION_STEPS_PER_EPOCH)  "
   ]
  },
  {
   "cell_type": "code",
   "execution_count": null,
   "metadata": {
    "id": "vVlOLPDF4_8c"
   },
   "outputs": [],
   "source": [
    "skplt.metrics.plot_roc(validation_generator.classes, Y_validation_proba_cw)"
   ]
  },
  {
   "cell_type": "code",
   "execution_count": null,
   "metadata": {
    "id": "tTLfBeDH5Luk"
   },
   "outputs": [],
   "source": [
    "skplt.metrics.plot_ks_statistic(validation_generator.classes, Y_validation_proba_cw)"
   ]
  },
  {
   "cell_type": "code",
   "execution_count": null,
   "metadata": {
    "id": "r68uZ-5z5U-p"
   },
   "outputs": [],
   "source": [
    "Y_validation_pred_cw = (Y_validation_proba_cw[:,1] > 0.5)*1"
   ]
  },
  {
   "cell_type": "code",
   "execution_count": null,
   "metadata": {
    "id": "hoVWmJnw5beP"
   },
   "outputs": [],
   "source": [
    "skplt.metrics.plot_confusion_matrix(validation_generator.classes, Y_validation_pred_cw, normalize=False)"
   ]
  },
  {
   "cell_type": "code",
   "execution_count": null,
   "metadata": {
    "id": "c4YMsG_nFJes"
   },
   "outputs": [],
   "source": [
    "print('Confusion Matrix')\n",
    "cm_validation_cw = confusion_matrix(validation_generator.classes, Y_validation_pred_cw, labels = [0,1])\n",
    "print(cm_validation_cw)"
   ]
  },
  {
   "cell_type": "code",
   "execution_count": null,
   "metadata": {
    "id": "JAK1XZOZFJes"
   },
   "outputs": [],
   "source": [
    "print('Classification Report')\n",
    "target_names = ['normal', 'opacity'] \n",
    "print(classification_report(validation_generator.classes, Y_validation_pred_cw, target_names=target_names))"
   ]
  },
  {
   "cell_type": "code",
   "execution_count": null,
   "metadata": {
    "id": "xcrA8_Y8FJet"
   },
   "outputs": [],
   "source": [
    "Y_test_proba_cw = model_cw.predict(test_generator, steps = TEST_STEPS_PER_EPOCH)"
   ]
  },
  {
   "cell_type": "code",
   "execution_count": null,
   "metadata": {
    "id": "lrfu3Z1q9zXb"
   },
   "outputs": [],
   "source": [
    "skplt.metrics.plot_roc(test_generator.classes, Y_test_proba_cw)"
   ]
  },
  {
   "cell_type": "code",
   "execution_count": null,
   "metadata": {
    "id": "0gGeEcy1-I2r"
   },
   "outputs": [],
   "source": [
    "skplt.metrics.plot_ks_statistic(test_generator.classes, Y_test_proba_cw)"
   ]
  },
  {
   "cell_type": "code",
   "execution_count": null,
   "metadata": {
    "id": "wPGbzWo--Vya"
   },
   "outputs": [],
   "source": [
    "Y_test_pred_cw = (Y_test_proba_cw[:,1] > 0.5)*1"
   ]
  },
  {
   "cell_type": "code",
   "execution_count": null,
   "metadata": {
    "id": "tmAoXs7a-ZhT"
   },
   "outputs": [],
   "source": [
    "skplt.metrics.plot_confusion_matrix(test_generator.classes, Y_test_pred_cw, normalize=False)"
   ]
  },
  {
   "cell_type": "code",
   "execution_count": null,
   "metadata": {
    "id": "G1BUpmo0FJet"
   },
   "outputs": [],
   "source": [
    "print('Confusion Matrix')\n",
    "cm_test_cw = confusion_matrix(test_generator.classes, Y_test_pred_cw, labels = [0,1])\n",
    "print(cm_test_cw)"
   ]
  },
  {
   "cell_type": "code",
   "execution_count": null,
   "metadata": {
    "id": "3MZfBjXvFJet"
   },
   "outputs": [],
   "source": [
    "print('Classification Report')\n",
    "target_names = ['normal', 'opacity'] \n",
    "print(classification_report(test_generator.classes, Y_test_pred_cw, target_names=target_names))"
   ]
  },
  {
   "cell_type": "code",
   "execution_count": null,
   "metadata": {
    "id": "4eXbqpxUFJeu"
   },
   "outputs": [],
   "source": [
    "plot_roc(\"Validation Base\", validation_generator.classes, Y_validation_pred_cw, color=colors[0], linestyle='--')\n",
    "plot_roc(\"Test Base\", test_generator.classes, Y_test_pred_cw, color=colors[0], linestyle='-.')\n",
    "plt.legend(loc='lower right')"
   ]
  },
  {
   "cell_type": "markdown",
   "metadata": {
    "id": "KLTNHHS3FJeu"
   },
   "source": [
    "# Focal Loss"
   ]
  },
  {
   "cell_type": "markdown",
   "metadata": {
    "id": "r9iF7EoMFJev"
   },
   "source": [
    "https://github.com/umbertogriffo/focal-loss-keras"
   ]
  },
  {
   "cell_type": "code",
   "execution_count": null,
   "metadata": {
    "id": "fg5BljAuFJev"
   },
   "outputs": [],
   "source": [
    "!pip install focal-loss"
   ]
  },
  {
   "cell_type": "code",
   "execution_count": null,
   "metadata": {
    "id": "3Ts8e0IWFJev"
   },
   "outputs": [],
   "source": [
    "from focal_loss import BinaryFocalLoss"
   ]
  },
  {
   "cell_type": "code",
   "execution_count": null,
   "metadata": {
    "id": "YiZ1YxjtFJew"
   },
   "outputs": [],
   "source": [
    "model_fl = our_model([32, 16], INPUT_SHAPE)"
   ]
  },
  {
   "cell_type": "code",
   "execution_count": null,
   "metadata": {
    "id": "S9cY05DNFJew"
   },
   "outputs": [],
   "source": [
    "from keras import backend as K\n",
    "\n",
    "# def focal_loss(gamma=2., alpha=.25):\n",
    "#     def focal_loss_fixed(y_true, y_pred):\n",
    "#         pt_1 = tf.where(tf.equal(y_true, 1), y_pred, tf.ones_like(y_pred))\n",
    "#         pt_0 = tf.where(tf.equal(y_true, 0), y_pred, tf.zeros_like(y_pred))\n",
    "#         return -K.mean(alpha * K.pow(1. - pt_1, gamma) * K.log(pt_1)) - K.mean((1 - alpha) * K.pow(pt_0, gamma) * K.log(1. - pt_0))\n",
    "#     return focal_loss_fixed"
   ]
  },
  {
   "cell_type": "code",
   "execution_count": null,
   "metadata": {
    "id": "-2x5lpJHBZO-"
   },
   "outputs": [],
   "source": [
    "def focal_loss(gamma=2., alpha=4.):\n",
    "\n",
    "    gamma = float(gamma)\n",
    "    alpha = float(alpha)\n",
    "\n",
    "    def focal_loss_fixed(y_true, y_pred):\n",
    "        \"\"\"Focal loss for multi-classification\n",
    "        FL(p_t)=-alpha(1-p_t)^{gamma}ln(p_t)\n",
    "        Notice: y_pred is probability after softmax\n",
    "        gradient is d(Fl)/d(p_t) not d(Fl)/d(x) as described in paper\n",
    "        d(Fl)/d(p_t) * [p_t(1-p_t)] = d(Fl)/d(x)\n",
    "        Focal Loss for Dense Object Detection\n",
    "        https://arxiv.org/abs/1708.02002\n",
    "\n",
    "        Arguments:\n",
    "            y_true {tensor} -- ground truth labels, shape of [batch_size, num_cls]\n",
    "            y_pred {tensor} -- model's output, shape of [batch_size, num_cls]\n",
    "\n",
    "        Keyword Arguments:\n",
    "            gamma {float} -- (default: {2.0})\n",
    "            alpha {float} -- (default: {4.0})\n",
    "\n",
    "        Returns:\n",
    "            [tensor] -- loss.\n",
    "        \"\"\"\n",
    "        epsilon = 1.e-9\n",
    "        y_true = tf.convert_to_tensor(y_true, tf.float32)\n",
    "        y_pred = tf.convert_to_tensor(y_pred, tf.float32)\n",
    "\n",
    "        model_out = tf.add(y_pred, epsilon)\n",
    "        ce = tf.multiply(y_true, -tf.math.log(model_out))\n",
    "        weight = tf.multiply(y_true, tf.pow(tf.subtract(1., model_out), gamma))\n",
    "        fl = tf.multiply(alpha, tf.multiply(weight, ce))\n",
    "        reduced_fl = tf.reduce_max(fl, axis=1)\n",
    "        return tf.reduce_mean(reduced_fl)\n",
    "    return focal_loss_fixed"
   ]
  },
  {
   "cell_type": "code",
   "execution_count": null,
   "metadata": {
    "id": "l_Y0KpidFJex"
   },
   "outputs": [],
   "source": [
    "model_fl.compile(loss=focal_loss(gamma=1.5,alpha=0.25), optimizer=Adam(lr=1e-4), metrics=METRICS)"
   ]
  },
  {
   "cell_type": "code",
   "execution_count": null,
   "metadata": {
    "id": "gWQYCsaxFJex"
   },
   "outputs": [],
   "source": [
    "start = timeit.default_timer()\n",
    "\n",
    "history_fl = model_fl.fit(\n",
    "      train_generator_1,  \n",
    "      steps_per_epoch = TRAIN_STEPS_PER_EPOCH, #train_generator.get_steps_per_epoch(),\n",
    "      #TRAIN_STEPS_PER_EPOCH,    \n",
    "      epochs = EPOCHS,\n",
    "      validation_data = validation_generator,\n",
    "      validation_steps = VALIDATION_STEPS_PER_EPOCH,  \n",
    "      shuffle= False,   \n",
    "      callbacks = CALLBACKS,\n",
    "      verbose = 1,\n",
    ")\n",
    "\n",
    "stop = timeit.default_timer()\n",
    "\n",
    "print('Time: ', (stop - start)/60)\n",
    "\n",
    "model.save('model_base_fl')"
   ]
  },
  {
   "cell_type": "code",
   "execution_count": null,
   "metadata": {
    "id": "LrqqDLmbQm71"
   },
   "outputs": [],
   "source": [
    "model.save(\"model_fl\")"
   ]
  },
  {
   "cell_type": "code",
   "execution_count": null,
   "metadata": {
    "id": "C7Uv5SYFFJex"
   },
   "outputs": [],
   "source": [
    "plot_loss(history_fl, \"Model_fl\", 1)"
   ]
  },
  {
   "cell_type": "code",
   "execution_count": null,
   "metadata": {},
   "outputs": [],
   "source": [
    "plot_acc(history_fl, \"Model fl\", 1)"
   ]
  },
  {
   "cell_type": "code",
   "execution_count": null,
   "metadata": {
    "id": "OBQqv13MFJex"
   },
   "outputs": [],
   "source": [
    "plot_metrics(history_fl)"
   ]
  },
  {
   "cell_type": "code",
   "execution_count": null,
   "metadata": {
    "id": "9t71SSg_FJey"
   },
   "outputs": [],
   "source": [
    "Y_validation_proba_fl = model_fl.predict(validation_generator, steps = VALIDATION_STEPS_PER_EPOCH)"
   ]
  },
  {
   "cell_type": "code",
   "execution_count": null,
   "metadata": {
    "id": "Qyw6yjuZDaK4"
   },
   "outputs": [],
   "source": [
    "skplt.metrics.plot_roc(validation_generator.classes, Y_validation_proba_fl)"
   ]
  },
  {
   "cell_type": "code",
   "execution_count": null,
   "metadata": {
    "id": "SvibTrP1ELA_"
   },
   "outputs": [],
   "source": [
    "skplt.metrics.plot_ks_statistic(validation_generator.classes, Y_validation_proba_fl)"
   ]
  },
  {
   "cell_type": "code",
   "execution_count": null,
   "metadata": {
    "id": "iir6_8fFEQxA"
   },
   "outputs": [],
   "source": [
    "Y_validation_pred_fl = (Y_validation_proba_fl[:,1] > 0.5)*1"
   ]
  },
  {
   "cell_type": "code",
   "execution_count": null,
   "metadata": {
    "id": "MAsi2U-XEYF4"
   },
   "outputs": [],
   "source": [
    "skplt.metrics.plot_confusion_matrix(validation_generator.classes, Y_validation_pred_fl, normalize=True)"
   ]
  },
  {
   "cell_type": "code",
   "execution_count": null,
   "metadata": {
    "id": "7GBP1ztEFJez"
   },
   "outputs": [],
   "source": [
    "print('Confusion Matrix')\n",
    "cm_validation_fl = confusion_matrix(validation_generator.classes, Y_validation_pred_fl, labels = [0,1])\n",
    "print(cm_validation_fl)"
   ]
  },
  {
   "cell_type": "code",
   "execution_count": null,
   "metadata": {
    "id": "dMQKdi09FJez"
   },
   "outputs": [],
   "source": [
    "Y_test_proba_fl = model_fl.predict(test_generator, steps = TEST_STEPS_PER_EPOCH)  "
   ]
  },
  {
   "cell_type": "code",
   "execution_count": null,
   "metadata": {
    "id": "-0Slexy1Exjc"
   },
   "outputs": [],
   "source": [
    "skplt.metrics.plot_roc(test_generator.classes, Y_test_proba_fl)"
   ]
  },
  {
   "cell_type": "code",
   "execution_count": null,
   "metadata": {
    "id": "f0kaYO5OE2j7"
   },
   "outputs": [],
   "source": [
    "skplt.metrics.plot_ks_statistic(test_generator.classes, Y_test_proba_fl)"
   ]
  },
  {
   "cell_type": "code",
   "execution_count": null,
   "metadata": {
    "id": "ZFxeLmTiE9SU"
   },
   "outputs": [],
   "source": [
    "Y_test_pred_fl = (Y_test_proba_fl[:,1] > 0.5)*1"
   ]
  },
  {
   "cell_type": "code",
   "execution_count": null,
   "metadata": {
    "id": "pim_MYyCFBNT"
   },
   "outputs": [],
   "source": [
    "skplt.metrics.plot_confusion_matrix(test_generator.classes, Y_test_pred_fl, normalize=False)"
   ]
  },
  {
   "cell_type": "code",
   "execution_count": null,
   "metadata": {
    "id": "RyD_Q6WjFJe0"
   },
   "outputs": [],
   "source": [
    "print('Confusion Matrix')\n",
    "cm_test_fl = confusion_matrix(test_generator.classes, Y_test_pred_fl, labels = [0,1])\n",
    "print(cm_test_fl)"
   ]
  },
  {
   "cell_type": "code",
   "execution_count": null,
   "metadata": {
    "id": "-huwKENNFJe0"
   },
   "outputs": [],
   "source": [
    "print('Classification Report')\n",
    "target_names = ['normal', 'opacity'] \n",
    "print(classification_report(test_generator.classes, Y_test_pred_fl, target_names=target_names))"
   ]
  },
  {
   "cell_type": "code",
   "execution_count": null,
   "metadata": {
    "id": "ONimz8nLFJe0"
   },
   "outputs": [],
   "source": [
    "plot_roc(\"Validation Base\", validation_generator.classes, Y_validation_pred_fl, color=colors[0], linestyle='--')\n",
    "plot_roc(\"Test Base\", test_generator.classes, Y_test_pred_fl, color=colors[0], linestyle='-.')\n",
    "\n",
    "\n",
    "plt.legend(loc='lower right')"
   ]
  },
  {
   "cell_type": "markdown",
   "metadata": {
    "id": "iKZ5gt9yFJe1"
   },
   "source": [
    "# Transfert Learning with focal loss function"
   ]
  },
  {
   "cell_type": "code",
   "execution_count": null,
   "metadata": {
    "id": "lFQiM181FJe1"
   },
   "outputs": [],
   "source": [
    "from tensorflow.keras.applications import MobileNet\n",
    "from tensorflow.keras.layers import GlobalAveragePooling2D\n",
    "from tensorflow.keras.applications.vgg16 import VGG16\n",
    "from tensorflow.keras.applications.vgg16 import preprocess_input"
   ]
  },
  {
   "cell_type": "code",
   "execution_count": null,
   "metadata": {
    "id": "xZvLABqEToMx"
   },
   "outputs": [],
   "source": [
    "x = np.array([[4,2,3], \n",
    "              [1,0,3]])\n",
    "index_array = np.argmax(x, axis=-1)"
   ]
  },
  {
   "cell_type": "code",
   "execution_count": null,
   "metadata": {
    "id": "DT7bUlAbFJe1"
   },
   "outputs": [],
   "source": [
    "vgg16_model =  VGG16(input_shape = (64,64,3), weights='imagenet', include_top=False)"
   ]
  },
  {
   "cell_type": "code",
   "execution_count": null,
   "metadata": {
    "id": "zE1-Bn_aFJe1"
   },
   "outputs": [],
   "source": [
    "vgg16_model.summary()"
   ]
  },
  {
   "cell_type": "code",
   "execution_count": null,
   "metadata": {
    "id": "N_v725nLFJe7"
   },
   "outputs": [],
   "source": [
    "# don't train existing weights\n",
    "for layer in vgg16_model.layers:\n",
    "    layer.trainable = False    "
   ]
  },
  {
   "cell_type": "code",
   "execution_count": null,
   "metadata": {
    "id": "YoUKZJgQFJe8"
   },
   "outputs": [],
   "source": [
    "model_tf = Sequential()\n",
    "model_tf.add(vgg16_model)\n",
    "model_tf.add(GlobalAveragePooling2D())\n",
    "model_tf.add(BatchNormalization())\n",
    "model_tf.add(Dense(128, activation='relu'))\n",
    "#model_tf.add(Dropout(0.5))\n",
    "model_tf.add(BatchNormalization())\n",
    "model_tf.add(Dense(64, activation='relu'))\n",
    "model_tf.add(Dropout(0.5))\n",
    "model_tf.add(Dense(2, activation='softmax'))\n",
    "\n",
    "model_tf.summary()"
   ]
  },
  {
   "cell_type": "code",
   "execution_count": null,
   "metadata": {
    "id": "poBYa9JOFJe8"
   },
   "outputs": [],
   "source": [
    "model_tf.compile(loss='categorical_crossentropy',optimizer=Adam(lr=1e-4),metrics=METRICS)"
   ]
  },
  {
   "cell_type": "code",
   "execution_count": null,
   "metadata": {
    "id": "Gf2UE7OJFJe9"
   },
   "outputs": [],
   "source": [
    "train_datagen = ImageDataGenerator(rescale=1./255,\n",
    "                                   shear_range = 0.2,\n",
    "                                   vertical_flip = False,\n",
    "                                   horizontal_flip = False,\n",
    "                                   rotation_range = 15,\n",
    "                                   brightness_range = [0.9, 1.1],\n",
    "                                   zoom_range = 0.2                                  \n",
    "                                   )\n",
    "\n",
    "train_generator_tf = train_datagen.flow_from_directory(\n",
    "        directory = train_directory,  \n",
    "        target_size = TARGET_SIZE,   \n",
    "        batch_size = BATCH_SIZE,        \n",
    "        color_mode='rgb',\n",
    "        class_mode= CLASS_MODE,    \n",
    "        shuffle = True,   \n",
    "        seed = 142,\n",
    "        )"
   ]
  },
  {
   "cell_type": "code",
   "execution_count": null,
   "metadata": {
    "id": "nmYbe4nWFJe9"
   },
   "outputs": [],
   "source": [
    "validation_datagen = ImageDataGenerator(rescale=1./255)\n",
    "\n",
    "validation_generator_tf = validation_datagen.flow_from_directory(\n",
    "        directory = validation_directory,\n",
    "        target_size = TARGET_SIZE,\n",
    "        batch_size = BATCH_SIZE,\n",
    "        color_mode ='rgb',\n",
    "        class_mode= CLASS_MODE,    \n",
    "        shuffle = True, \n",
    "        )"
   ]
  },
  {
   "cell_type": "code",
   "execution_count": null,
   "metadata": {
    "id": "wD5mBs6UFJe9"
   },
   "outputs": [],
   "source": [
    "test_datagen = ImageDataGenerator(rescale=1./255)\n",
    "\n",
    "test_generator_tf = test_datagen.flow_from_directory(\n",
    "        directory = test_directory,\n",
    "        target_size = TARGET_SIZE,\n",
    "        batch_size = BATCH_SIZE,\n",
    "        color_mode ='rgb',\n",
    "        class_mode = None,    \n",
    "        shuffle = False,\n",
    "        )"
   ]
  },
  {
   "cell_type": "code",
   "execution_count": null,
   "metadata": {
    "id": "qUTy7k_zFJe9"
   },
   "outputs": [],
   "source": [
    "start = timeit.default_timer()\n",
    "\n",
    "history_tf = model_tf.fit(\n",
    "      train_generator_tf,  \n",
    "      steps_per_epoch = TRAIN_STEPS_PER_EPOCH,    \n",
    "      epochs = EPOCHS,\n",
    "      validation_data = validation_generator_tf,\n",
    "      validation_steps = VALIDATION_STEPS_PER_EPOCH,  \n",
    "      shuffle= False,   \n",
    "      callbacks = CALLBACKS,\n",
    "      verbose = 1, \n",
    ")\n",
    "\n",
    "stop = timeit.default_timer()\n",
    "\n",
    "print('Time: ', (stop - start)/60)\n",
    "\n",
    "model.save('model_base_tf')"
   ]
  },
  {
   "cell_type": "code",
   "execution_count": null,
   "metadata": {
    "id": "6x4qraTWFJe-"
   },
   "outputs": [],
   "source": [
    "plot_loss(history_tf, \"Model_tf\", 1)"
   ]
  },
  {
   "cell_type": "code",
   "execution_count": null,
   "metadata": {
    "id": "b3QshAKWFJe-"
   },
   "outputs": [],
   "source": [
    "plot_metrics(history_tf)"
   ]
  },
  {
   "cell_type": "code",
   "execution_count": null,
   "metadata": {
    "id": "FnXTG_0qFJe-"
   },
   "outputs": [],
   "source": [
    "Y_train_proba_tf = model_tf.predict(train_generator_tf, steps = TRAIN_STEPS_PER_EPOCH)  "
   ]
  },
  {
   "cell_type": "code",
   "execution_count": null,
   "metadata": {
    "id": "GGInleHszLUj"
   },
   "outputs": [],
   "source": [
    "skplt.metrics.plot_roc(train_generator.classes, Y_train_proba_tf)"
   ]
  },
  {
   "cell_type": "code",
   "execution_count": null,
   "metadata": {
    "id": "sVj1Y-iezgFO"
   },
   "outputs": [],
   "source": [
    "skplt.metrics.plot_ks_statistic(train_generator.classes, Y_train_proba_tf)"
   ]
  },
  {
   "cell_type": "code",
   "execution_count": null,
   "metadata": {
    "id": "rWjDV3n9zflU"
   },
   "outputs": [],
   "source": [
    "Y_train_pred_tf = (Y_train_proba_tf[:,1] > 0.537)*1"
   ]
  },
  {
   "cell_type": "code",
   "execution_count": null,
   "metadata": {
    "id": "iRb0tvqO0GKf"
   },
   "outputs": [],
   "source": [
    "skplt.metrics.plot_confusion_matrix(train_generator.classes, Y_train_pred_tf, normalize=True)"
   ]
  },
  {
   "cell_type": "code",
   "execution_count": null,
   "metadata": {
    "id": "UPOI0l6PFJe_"
   },
   "outputs": [],
   "source": [
    "print('Confusion Matrix')\n",
    "cm_train_tf = confusion_matrix(train_generator_tf.classes, Y_train_pred_tf, labels = [0,1])\n",
    "print(cm_train_tf)"
   ]
  },
  {
   "cell_type": "code",
   "execution_count": null,
   "metadata": {
    "id": "ku484dKWFJfA"
   },
   "outputs": [],
   "source": [
    "Y_validation_proba_tf = model_tf.predict(validation_generator_tf, steps = VALIDATION_STEPS_PER_EPOCH)"
   ]
  },
  {
   "cell_type": "code",
   "execution_count": null,
   "metadata": {
    "id": "HuVZ3oS_0yZA"
   },
   "outputs": [],
   "source": [
    "skplt.metrics.plot_roc(validation_generator.classes, Y_validation_proba_tf)"
   ]
  },
  {
   "cell_type": "code",
   "execution_count": null,
   "metadata": {
    "id": "A5-9wD_10zVc"
   },
   "outputs": [],
   "source": [
    "skplt.metrics.plot_ks_statistic(validation_generator.classes, Y_validation_proba_tf)"
   ]
  },
  {
   "cell_type": "code",
   "execution_count": null,
   "metadata": {
    "id": "pdv6EciZ0z1f"
   },
   "outputs": [],
   "source": [
    "Y_validation_pred_tf = (Y_validation_proba_tf[:,1] > 0.537)*1"
   ]
  },
  {
   "cell_type": "code",
   "execution_count": null,
   "metadata": {
    "id": "KOkOUAOg1aL3"
   },
   "outputs": [],
   "source": [
    "skplt.metrics.plot_confusion_matrix(validation_generator.classes, Y_validation_pred_tf, normalize=True)"
   ]
  },
  {
   "cell_type": "code",
   "execution_count": null,
   "metadata": {
    "id": "2oSjNOODFJfA"
   },
   "outputs": [],
   "source": [
    "print('Confusion Matrix')\n",
    "cm_validation_tf = confusion_matrix(validation_generator_tf.classes, Y_validation_pred_tf, labels = [0,1])\n",
    "print(cm_validation_tf)"
   ]
  },
  {
   "cell_type": "code",
   "execution_count": null,
   "metadata": {
    "id": "gw-4vvo7FJfB"
   },
   "outputs": [],
   "source": [
    "Y_test_proba_tf = model_tf.predict(test_generator_tf, steps = TEST_STEPS_PER_EPOCH)  "
   ]
  },
  {
   "cell_type": "code",
   "execution_count": null,
   "metadata": {
    "id": "RQYl4LYd1qvG"
   },
   "outputs": [],
   "source": [
    "skplt.metrics.plot_roc(test_generator.classes, Y_test_proba_tf)"
   ]
  },
  {
   "cell_type": "code",
   "execution_count": null,
   "metadata": {
    "id": "zMu2Tdn7194v"
   },
   "outputs": [],
   "source": [
    "skplt.metrics.plot_ks_statistic(test_generator.classes, Y_test_proba_tf)"
   ]
  },
  {
   "cell_type": "code",
   "execution_count": null,
   "metadata": {
    "id": "jJ4kPnoo2FaZ"
   },
   "outputs": [],
   "source": [
    "Y_test_pred_tf = (Y_test_proba_tf[:,1] > 0.5)*1"
   ]
  },
  {
   "cell_type": "code",
   "execution_count": null,
   "metadata": {
    "id": "pcTRr9hBTYhY"
   },
   "outputs": [],
   "source": [
    "skplt.metrics.plot_confusion_matrix(test_generator.classes, Y_test_pred_tf, normalize=False)"
   ]
  },
  {
   "cell_type": "code",
   "execution_count": null,
   "metadata": {
    "id": "g-67922uFJfB"
   },
   "outputs": [],
   "source": [
    "print('Confusion Matrix')\n",
    "cm_test_tf = confusion_matrix(test_generator_tf.classes, Y_test_pred_tf, labels = [0,1])\n",
    "print(cm_test_tf)"
   ]
  },
  {
   "cell_type": "code",
   "execution_count": null,
   "metadata": {
    "id": "JLrm9n9mFJfB",
    "scrolled": true
   },
   "outputs": [],
   "source": [
    "print('Classification Report')\n",
    "target_names = ['normal', 'opacity'] \n",
    "print(classification_report(test_generator_tf.classes, Y_test_pred_tf, target_names=target_names))"
   ]
  },
  {
   "cell_type": "code",
   "execution_count": null,
   "metadata": {
    "id": "iP5AcNmIFJfC"
   },
   "outputs": [],
   "source": [
    "plot_roc(\"Validation Base\", validation_generator_tf.classes, Y_validation_pred_tf, color=colors[0], linestyle='--')\n",
    "plot_roc(\"Test Base\", test_generator_tf.classes, Y_test_pred_tf, color=colors[0], linestyle='-.')\n",
    "\n",
    "\n",
    "plt.legend(loc='lower right')"
   ]
  },
  {
   "cell_type": "markdown",
   "metadata": {
    "id": "0Bl2p7QiFJfE"
   },
   "source": [
    "# Fine tuning the parameters"
   ]
  },
  {
   "cell_type": "code",
   "execution_count": null,
   "metadata": {
    "id": "8DnAAFPjFJfE"
   },
   "outputs": [],
   "source": [
    "model_fine_tuning = model_tf\n",
    "#unfreeze final convolution blocks\n",
    "model_tf.trainable = True\n",
    "set_trainable = False\n",
    "for layer in model_tf.layers:\n",
    "    if layer.name == 'block5_conv1':\n",
    "        set_trainable = True\n",
    "    if set_trainable:\n",
    "        layer.trainable = True\n",
    "    else:\n",
    "        layer.trainable = False\n",
    "        \n"
   ]
  },
  {
   "cell_type": "code",
   "execution_count": null,
   "metadata": {
    "id": "Utn_OmMbFJfE"
   },
   "outputs": [],
   "source": [
    "# x = Flatten()(vgg16_model.output)\n",
    "# x = Dense(units=128, activation='relu')(x)\n",
    "# x = Dense(units=64, activation='relu')(x)\n",
    "# prediction = Dense(1, kernel_initializer=GlorotNormal(), activation='sigmoid')(x)"
   ]
  },
  {
   "cell_type": "code",
   "execution_count": null,
   "metadata": {
    "id": "ziQ_ZQeoFJfE"
   },
   "outputs": [],
   "source": [
    "# model_fine_tuning = Model(inputs=vgg16_model.input, outputs=prediction)"
   ]
  },
  {
   "cell_type": "code",
   "execution_count": null,
   "metadata": {
    "id": "uyZBcgGVFJfF"
   },
   "outputs": [],
   "source": [
    "model_fine_tuning.compile(loss= 'categorical_crossentropy', optimizer=Adam(lr=1e-4), metrics=METRICS)"
   ]
  },
  {
   "cell_type": "code",
   "execution_count": null,
   "metadata": {
    "id": "qFdzE0V6FJfF"
   },
   "outputs": [],
   "source": [
    "start = timeit.default_timer()\n",
    "\n",
    "history_fine_tuning = model_fine_tuning.fit(\n",
    "      train_generator_tf,  \n",
    "      steps_per_epoch = TRAIN_STEPS_PER_EPOCH,    \n",
    "      epochs = EPOCHS,\n",
    "      validation_data = validation_generator_tf,\n",
    "      validation_steps = VALIDATION_STEPS_PER_EPOCH,  \n",
    "      shuffle= False,   \n",
    "      callbacks = CALLBACKS,\n",
    "      verbose = 1, \n",
    ")\n",
    "\n",
    "stop = timeit.default_timer()\n",
    "\n",
    "print('Time: ', (stop - start)/60)"
   ]
  },
  {
   "cell_type": "code",
   "execution_count": null,
   "metadata": {
    "id": "m_53YjM_FJfF"
   },
   "outputs": [],
   "source": [
    "model.save('model_base_fine_tuned')"
   ]
  },
  {
   "cell_type": "code",
   "execution_count": null,
   "metadata": {
    "id": "INwOqJwUVuUU"
   },
   "outputs": [],
   "source": [
    "Y_validation_proba_fine_tuning = model_fine_tuning.predict(validation_generator_tf, steps = VALIDATION_STEPS_PER_EPOCH)"
   ]
  },
  {
   "cell_type": "code",
   "execution_count": null,
   "metadata": {
    "id": "jAmICLjMVulF"
   },
   "outputs": [],
   "source": [
    "skplt.metrics.plot_roc(validation_generator_tf.classes, Y_validation_proba_fine_tuning)"
   ]
  },
  {
   "cell_type": "code",
   "execution_count": null,
   "metadata": {
    "id": "Ji_f48xaFJfF"
   },
   "outputs": [],
   "source": [
    "skplt.metrics.plot_ks_statistic(validation_generator_tf.classes, Y_validation_proba_fine_tuning)"
   ]
  },
  {
   "cell_type": "code",
   "execution_count": null,
   "metadata": {
    "id": "eyvc2pVvFJfF"
   },
   "outputs": [],
   "source": [
    "Y_validation_pred_fine_tuning = (Y_validation_proba_fine_tuning[:,1] > 0.5)*1"
   ]
  },
  {
   "cell_type": "code",
   "execution_count": null,
   "metadata": {
    "id": "RrK14ynKFJfG"
   },
   "outputs": [],
   "source": [
    "skplt.metrics.plot_confusion_matrix(validation_generator_tf.classes, Y_validation_pred_fine_tuning, normalize=False)"
   ]
  },
  {
   "cell_type": "code",
   "execution_count": null,
   "metadata": {
    "id": "-e6FjgyIFJfG"
   },
   "outputs": [],
   "source": [
    "print('Confusion Matrix')\n",
    "cm_validation_tf = confusion_matrix(validation_generator_tf.classes, Y_validation_pred_fine_tuning, labels = [0,1])\n",
    "print(cm_validation_tf)"
   ]
  },
  {
   "cell_type": "code",
   "execution_count": null,
   "metadata": {},
   "outputs": [],
   "source": [
    "Y_test_proba_fine_tuning = model_fine_tuning.predict(test_generator_tf, steps = TEST_STEPS_PER_EPOCH)  "
   ]
  },
  {
   "cell_type": "code",
   "execution_count": null,
   "metadata": {},
   "outputs": [],
   "source": [
    "skplt.metrics.plot_roc(test_generator_tf.classes, Y_test_proba_fine_tuning)"
   ]
  },
  {
   "cell_type": "code",
   "execution_count": null,
   "metadata": {},
   "outputs": [],
   "source": [
    "skplt.metrics.plot_ks_statistic(test_generator_tf.classes, Y_test_proba_fine_tuning)"
   ]
  },
  {
   "cell_type": "code",
   "execution_count": null,
   "metadata": {},
   "outputs": [],
   "source": [
    "Y_test_pred_fine_tuning = (Y_test_proba_fine_tuning[:,1] > 0.5)*1"
   ]
  },
  {
   "cell_type": "code",
   "execution_count": null,
   "metadata": {},
   "outputs": [],
   "source": [
    "skplt.metrics.plot_confusion_matrix(test_generator_tf.classes, Y_test_pred_fine_tuning, normalize=False)"
   ]
  },
  {
   "cell_type": "code",
   "execution_count": null,
   "metadata": {},
   "outputs": [],
   "source": [
    "print('Confusion Matrix')\n",
    "cm_test_tf = confusion_matrix(test_generator_tf.classes, Y_test_pred_fine_tuning, labels = [0,1])\n",
    "print(cm_test_tf)"
   ]
  },
  {
   "cell_type": "code",
   "execution_count": null,
   "metadata": {},
   "outputs": [],
   "source": [
    "print('Classification Report')\n",
    "target_names = ['normal', 'opacity'] \n",
    "print(classification_report(test_generator_tf.classes, Y_test_pred_fine_tuning, target_names=target_names))"
   ]
  },
  {
   "cell_type": "markdown",
   "metadata": {
    "id": "BIKES_PdFJfG"
   },
   "source": [
    "# Hyperparameter tuning with Keras Tuner"
   ]
  },
  {
   "cell_type": "code",
   "execution_count": null,
   "metadata": {
    "id": "U0DuUFtqFJfG"
   },
   "outputs": [],
   "source": [
    "# import tensorflow as tf\n",
    "\n",
    "# def build_model(hp):\n",
    "#     inputs = tf.keras.Input(shape= (32, 32, 1))#(32, 32, 3))\n",
    "#     x = inputs\n",
    "#     for i in range(hp.Int('conv_blocks', 1, 2, default=2)):\n",
    "#         filters = hp.Int('filters_' + str(i), 32, 256, step=32)\n",
    "#         for _ in range(2):\n",
    "#             x = tf.keras.layers.Convolution2D(filters, kernel_size=(3, 3), padding='same')(x)\n",
    "#             x = tf.keras.layers.BatchNormalization()(x)\n",
    "#             x = tf.keras.layers.ReLU()(x)\n",
    "#         if hp.Choice('pooling_' + str(i), ['avg', 'max']) == 'max':\n",
    "#             x = tf.keras.layers.MaxPool2D()(x)\n",
    "#         else:\n",
    "#             x = tf.keras.layers.AvgPool2D()(x)\n",
    "  \n",
    "#     x = tf.keras.layers.GlobalAvgPool2D()(x)\n",
    "#     x = tf.keras.layers.Dense(hp.Int('hidden_size', 30, 100, step=10, default=50),activation='relu')(x)\n",
    "#     x = tf.keras.layers.Dropout(hp.Float('dropout', 0, 0.5, step=0.1, default=0.5))(x)\n",
    "#     outputs = tf.keras.layers.Dense(1, activation='sigmoid')(x)\n",
    "\n",
    "#     model = tf.keras.Model(inputs, outputs)\n",
    "#     model.compile(optimizer=tf.keras.optimizers.Adam(hp.Float('learning_rate', 1e-4, 1e-2, sampling='log')),\n",
    "#                 loss='binary_crossentropy', \n",
    "#                 metrics= METRICS) #['accuracy'])\n",
    "#     return model"
   ]
  },
  {
   "cell_type": "code",
   "execution_count": null,
   "metadata": {
    "id": "6G7f6AMpFJfG"
   },
   "outputs": [],
   "source": [
    "def get_model_design_hp(hp):\n",
    "    model = Sequential([Conv2D(hp.Int('filters_0',16,32,step=8,default=32),kernel_size=(5,5),padding='same',kernel_regularizer=l2(0.001),activation='relu',input_shape=INPUT_SHAPE),\n",
    "                        Conv2D(hp.Int('filters_1',16,32,step=8,default=16),kernel_size=(3,3),padding='same',kernel_regularizer=l2(0.001),activation='relu'),\n",
    "                        MaxPool2D(pool_size=(2,2)),\n",
    "                        BatchNormalization(),\n",
    "                        Flatten(),\n",
    "                        Dropout(hp.Float('dropout',0,0.5,step=0.25,default=0.5)),\n",
    "                        Dense(units = hp.Int('Dense',32,64,step=8,default=64),activation='relu'),\n",
    "                        Dropout(0.2),\n",
    "                        Dense(1, kernel_initializer=GlorotNormal(), activation='sigmoid')\n",
    "                       ])\n",
    "    model.compile(optimizer=tf.keras.optimizers.Adam(hp.Float('learning_rate', 1e-4, 1e-2, sampling='log')),\n",
    "                loss='binary_crossentropy',metrics= METRICS) \n",
    "    \n",
    "    return model"
   ]
  },
  {
   "cell_type": "code",
   "execution_count": null,
   "metadata": {
    "id": "Kt9v10TrFJfH"
   },
   "outputs": [],
   "source": [
    "list(range(4))"
   ]
  },
  {
   "cell_type": "code",
   "execution_count": null,
   "metadata": {
    "id": "5nHTmmd_FJfH"
   },
   "outputs": [],
   "source": [
    "import time\n",
    "LOG_DIR = f'{int(time.time())}'"
   ]
  },
  {
   "cell_type": "code",
   "execution_count": null,
   "metadata": {
    "id": "8B0x3AS1FJfH"
   },
   "outputs": [],
   "source": [
    "import kerastuner as kt\n",
    "\n",
    "tuner = kt.Hyperband(\n",
    "    get_model_design_hp,\n",
    "    objective= 'val_loss' ,#'val_accuracy',\n",
    "    max_epochs=10,\n",
    "    hyperband_iterations=2,\n",
    "    directory = LOG_DIR    \n",
    ")"
   ]
  },
  {
   "cell_type": "code",
   "execution_count": null,
   "metadata": {
    "id": "C1Gau2ZMFJfH"
   },
   "outputs": [],
   "source": [
    "tuner.search(train_generator,\n",
    "             validation_data = validation_generator,\n",
    "             epochs=2,\n",
    "             callbacks=[tf.keras.callbacks.EarlyStopping(patience=1)])"
   ]
  },
  {
   "cell_type": "code",
   "execution_count": null,
   "metadata": {
    "id": "G16n5OJVFJfH"
   },
   "outputs": [],
   "source": [
    "best_model = tuner.get_best_models(1)[0]"
   ]
  },
  {
   "cell_type": "code",
   "execution_count": null,
   "metadata": {
    "id": "jKu131gAFJfI"
   },
   "outputs": [],
   "source": [
    "best_hyperparameters = tuner.get_best_hyperparameters(1)[0]"
   ]
  },
  {
   "cell_type": "code",
   "execution_count": null,
   "metadata": {
    "id": "LzIWL3knFJfI"
   },
   "outputs": [],
   "source": [
    "# # Build the model with the optimal hyperparameters and train it on the data for 50 epochs\n",
    "# model = tuner.hypermodel.build(best_hyperparameters)\n",
    "# history = model.fit(img_train, \n",
    "#                     label_train, \n",
    "#                     epochs=50,\n",
    "#                     validation_split=0.2)\n",
    "\n",
    "# val_acc_per_epoch = history.history['val_accuracy']\n",
    "# best_epoch = val_acc_per_epoch.index(max(val_acc_per_epoch)) + 1\n",
    "# print('Best epoch: %d' % (best_epoch,))"
   ]
  },
  {
   "cell_type": "code",
   "execution_count": null,
   "metadata": {
    "id": "BbX6xUdnFJfI"
   },
   "outputs": [],
   "source": [
    "# hypermodel = tuner.hypermodel.build(best_hyperparameters)\n",
    "\n",
    "# # Retrain the model\n",
    "# hypermodel.fit(img_train, label_train, epochs=best_epoch, validation_split=0.2)"
   ]
  },
  {
   "cell_type": "code",
   "execution_count": null,
   "metadata": {
    "id": "RmJxT1a3FJfI"
   },
   "outputs": [],
   "source": []
  },
  {
   "cell_type": "code",
   "execution_count": null,
   "metadata": {
    "id": "B9s73rgEFJfI"
   },
   "outputs": [],
   "source": []
  },
  {
   "cell_type": "code",
   "execution_count": null,
   "metadata": {
    "id": "mxVRMCNzFJfJ"
   },
   "outputs": [],
   "source": []
  },
  {
   "cell_type": "code",
   "execution_count": null,
   "metadata": {
    "id": "pxamVd7AFJfJ"
   },
   "outputs": [],
   "source": [
    "KHASK TST3ml le meme model bach t3awd lhypertunning"
   ]
  },
  {
   "cell_type": "code",
   "execution_count": null,
   "metadata": {
    "id": "R6cbaB2nFJfJ"
   },
   "outputs": [],
   "source": [
    "# def get_model_design_hp(filters, input_shape):\n",
    "#     model = Sequential([Conv2D(filters[0], (5, 5),  padding='same', kernel_regularizer=l2(0.001), activation='relu', input_shape=input_shape),\n",
    "#                         Conv2D(filters[1], (3, 3),  padding='same', kernel_regularizer=l2(0.001), activation='relu'),\n",
    "#                         MaxPool2D(pool_size=(2, 2)),\n",
    "#                         BatchNormalization(),\n",
    "#                         Flatten(),\n",
    "#                         Dropout(0.5),\n",
    "#                         Dense(1, kernel_initializer=GlorotNormal(), activation='sigmoid')\n",
    "#                        ])\n",
    "#     return model"
   ]
  },
  {
   "cell_type": "code",
   "execution_count": null,
   "metadata": {
    "id": "OHpYYWgVFJfK"
   },
   "outputs": [],
   "source": [
    "# def model_builder(hp):\n",
    "#   model = keras.Sequential()\n",
    "#   model.add(keras.layers.Flatten(input_shape=(28, 28)))\n",
    "\n",
    "#   # Tune the number of units in the first Dense layer\n",
    "#   # Choose an optimal value between 32-512\n",
    "#   hp_units = hp.Int('units', min_value=32, max_value=512, step=32)\n",
    "#   model.add(keras.layers.Dense(units=hp_units, activation='relu'))\n",
    "#   model.add(keras.layers.Dense(10))\n",
    "\n",
    "#   # Tune the learning rate for the optimizer\n",
    "#   # Choose an optimal value from 0.01, 0.001, or 0.0001\n",
    "#   hp_learning_rate = hp.Choice('learning_rate', values=[1e-2, 1e-3, 1e-4])\n",
    "\n",
    "#   model.compile(optimizer=keras.optimizers.Adam(learning_rate=hp_learning_rate),\n",
    "#                 loss=keras.losses.SparseCategoricalCrossentropy(from_logits=True),\n",
    "#                 metrics=['accuracy'])\n",
    "\n",
    "#   return model"
   ]
  },
  {
   "cell_type": "code",
   "execution_count": null,
   "metadata": {
    "id": "fs1p1qOpFJfK"
   },
   "outputs": [],
   "source": []
  },
  {
   "cell_type": "code",
   "execution_count": null,
   "metadata": {
    "id": "NwmDzQ2NFJfK"
   },
   "outputs": [],
   "source": []
  },
  {
   "cell_type": "code",
   "execution_count": null,
   "metadata": {
    "id": "SZI2cWcpFJfK"
   },
   "outputs": [],
   "source": []
  },
  {
   "cell_type": "code",
   "execution_count": null,
   "metadata": {
    "id": "m8Y5OJOwFJfK"
   },
   "outputs": [],
   "source": []
  },
  {
   "cell_type": "code",
   "execution_count": null,
   "metadata": {
    "id": "gwDbaD99FJfL"
   },
   "outputs": [],
   "source": []
  },
  {
   "cell_type": "code",
   "execution_count": null,
   "metadata": {
    "id": "VHbVFGU_FJfL"
   },
   "outputs": [],
   "source": []
  },
  {
   "cell_type": "code",
   "execution_count": null,
   "metadata": {
    "id": "do0EtXhoFJfL"
   },
   "outputs": [],
   "source": []
  },
  {
   "cell_type": "code",
   "execution_count": null,
   "metadata": {
    "id": "GDIA0UYTFJfL"
   },
   "outputs": [],
   "source": []
  },
  {
   "cell_type": "code",
   "execution_count": null,
   "metadata": {
    "id": "plwLIbWoFJfL"
   },
   "outputs": [],
   "source": []
  },
  {
   "cell_type": "code",
   "execution_count": null,
   "metadata": {
    "id": "yrgEj1TRFJfL"
   },
   "outputs": [],
   "source": []
  },
  {
   "cell_type": "code",
   "execution_count": null,
   "metadata": {
    "id": "9TW7sgiiFJfM"
   },
   "outputs": [],
   "source": []
  },
  {
   "cell_type": "code",
   "execution_count": null,
   "metadata": {
    "id": "0uRdmYbOFJfM"
   },
   "outputs": [],
   "source": []
  },
  {
   "cell_type": "code",
   "execution_count": null,
   "metadata": {
    "id": "TdMb3PpDFJfM"
   },
   "outputs": [],
   "source": []
  },
  {
   "cell_type": "code",
   "execution_count": null,
   "metadata": {
    "id": "JqN-9sCAFJfM"
   },
   "outputs": [],
   "source": []
  },
  {
   "cell_type": "code",
   "execution_count": null,
   "metadata": {
    "id": "QO9TzVhVFJfM"
   },
   "outputs": [],
   "source": []
  },
  {
   "cell_type": "code",
   "execution_count": null,
   "metadata": {
    "id": "ITSf-iT6FJfM"
   },
   "outputs": [],
   "source": []
  },
  {
   "cell_type": "code",
   "execution_count": null,
   "metadata": {
    "id": "mEb0I5yTFJfN"
   },
   "outputs": [],
   "source": []
  },
  {
   "cell_type": "code",
   "execution_count": null,
   "metadata": {
    "id": "poj3ZR5AFJfN"
   },
   "outputs": [],
   "source": []
  },
  {
   "cell_type": "code",
   "execution_count": null,
   "metadata": {
    "id": "21kRmXR4FJfN"
   },
   "outputs": [],
   "source": []
  },
  {
   "cell_type": "code",
   "execution_count": null,
   "metadata": {
    "id": "misD0os9FJfN"
   },
   "outputs": [],
   "source": []
  },
  {
   "cell_type": "code",
   "execution_count": null,
   "metadata": {
    "id": "3UasCVZoFJfN"
   },
   "outputs": [],
   "source": []
  },
  {
   "cell_type": "code",
   "execution_count": null,
   "metadata": {
    "id": "NHE_-nQHFJfN"
   },
   "outputs": [],
   "source": []
  },
  {
   "cell_type": "code",
   "execution_count": null,
   "metadata": {
    "id": "GVbEPg0oFJfO"
   },
   "outputs": [],
   "source": []
  },
  {
   "cell_type": "code",
   "execution_count": null,
   "metadata": {
    "id": "pAxtG1NtFJfO"
   },
   "outputs": [],
   "source": []
  },
  {
   "cell_type": "code",
   "execution_count": null,
   "metadata": {
    "id": "cFfgJXlOFJfO"
   },
   "outputs": [],
   "source": []
  },
  {
   "cell_type": "code",
   "execution_count": null,
   "metadata": {
    "id": "GgyStpG5FJfO"
   },
   "outputs": [],
   "source": []
  },
  {
   "cell_type": "code",
   "execution_count": null,
   "metadata": {
    "id": "stpU8M4OFJfO"
   },
   "outputs": [],
   "source": []
  },
  {
   "cell_type": "code",
   "execution_count": null,
   "metadata": {
    "id": "wUb-SgIGFJfO"
   },
   "outputs": [],
   "source": []
  },
  {
   "cell_type": "code",
   "execution_count": null,
   "metadata": {
    "id": "PwNKVMMVFJfP"
   },
   "outputs": [],
   "source": []
  },
  {
   "cell_type": "code",
   "execution_count": null,
   "metadata": {
    "id": "ZLoLgUP9FJfP"
   },
   "outputs": [],
   "source": []
  },
  {
   "cell_type": "code",
   "execution_count": null,
   "metadata": {
    "id": "CPUQdtTSFJfP"
   },
   "outputs": [],
   "source": []
  },
  {
   "cell_type": "code",
   "execution_count": null,
   "metadata": {
    "id": "U_eV0faBFJfP"
   },
   "outputs": [],
   "source": []
  },
  {
   "cell_type": "code",
   "execution_count": null,
   "metadata": {
    "id": "rMFhxHM3FJfQ"
   },
   "outputs": [],
   "source": []
  },
  {
   "cell_type": "code",
   "execution_count": null,
   "metadata": {
    "id": "-RiW_TpSFJfQ"
   },
   "outputs": [],
   "source": []
  },
  {
   "cell_type": "code",
   "execution_count": null,
   "metadata": {
    "id": "5cO7jRrEFJfQ"
   },
   "outputs": [],
   "source": []
  },
  {
   "cell_type": "code",
   "execution_count": null,
   "metadata": {
    "id": "VzH0uwWiFJfQ"
   },
   "outputs": [],
   "source": []
  },
  {
   "cell_type": "code",
   "execution_count": null,
   "metadata": {
    "id": "x1yY1Nl_FJfR"
   },
   "outputs": [],
   "source": []
  },
  {
   "cell_type": "code",
   "execution_count": null,
   "metadata": {
    "id": "YXMT4m3GFJfR"
   },
   "outputs": [],
   "source": []
  },
  {
   "cell_type": "code",
   "execution_count": null,
   "metadata": {
    "id": "Yt6UdIYtFJfR"
   },
   "outputs": [],
   "source": []
  },
  {
   "cell_type": "code",
   "execution_count": null,
   "metadata": {
    "id": "CgdqFtqvFJfR"
   },
   "outputs": [],
   "source": []
  },
  {
   "cell_type": "code",
   "execution_count": null,
   "metadata": {
    "id": "5MAPCX-fFJfR"
   },
   "outputs": [],
   "source": []
  },
  {
   "cell_type": "code",
   "execution_count": null,
   "metadata": {
    "id": "sdv7860lFJfS"
   },
   "outputs": [],
   "source": []
  },
  {
   "cell_type": "code",
   "execution_count": null,
   "metadata": {
    "id": "xKWksPTWFJfS"
   },
   "outputs": [],
   "source": []
  },
  {
   "cell_type": "code",
   "execution_count": null,
   "metadata": {
    "id": "44u7el8bFJfS"
   },
   "outputs": [],
   "source": []
  },
  {
   "cell_type": "code",
   "execution_count": null,
   "metadata": {
    "id": "tPgAO5uqFJfS"
   },
   "outputs": [],
   "source": []
  },
  {
   "cell_type": "code",
   "execution_count": null,
   "metadata": {
    "id": "xTbz9zkhGAuF"
   },
   "outputs": [],
   "source": [
    "classifier = CNN_model(optimizer='sgd', dropout=0.5, init='uniform', units = UNITS_DENSE)"
   ]
  },
  {
   "cell_type": "code",
   "execution_count": null,
   "metadata": {
    "id": "NVX50ZtCdIBp"
   },
   "outputs": [],
   "source": [
    "classifier.summary()"
   ]
  },
  {
   "cell_type": "code",
   "execution_count": null,
   "metadata": {
    "id": "0c9z4GvbGAiP"
   },
   "outputs": [],
   "source": [
    "plot_model(classifier, to_file='model_plot.png', show_shapes = True, show_layer_names = True)"
   ]
  },
  {
   "cell_type": "code",
   "execution_count": null,
   "metadata": {
    "id": "o96UqFq8GASb"
   },
   "outputs": [],
   "source": [
    "sgd = SGD(lr = 0.01, decay = 1e-6, momentum = 0.9, nesterov = True)\n",
    "#rmsprop = RMSprop()\n",
    "# adam = Adam()\n",
    "# adadelta = Adadelta()\n",
    "# adagrad = Adagrad()\n",
    "# adamax = Adamax()\n",
    "# nadam = Nadam()\n",
    "# ftrl = Ftrl()"
   ]
  },
  {
   "cell_type": "code",
   "execution_count": null,
   "metadata": {
    "id": "8vFBFrtBG4us"
   },
   "outputs": [],
   "source": [
    "# classifier.compile(optimizer = RMSprop(lr=0.001), loss = 'SparseCategoricalCrossentropy', metrics = ['acc'])"
   ]
  },
  {
   "cell_type": "code",
   "execution_count": null,
   "metadata": {
    "id": "dxLw9P3a4gS7"
   },
   "outputs": [],
   "source": [
    "CALLBACKS = [\n",
    "            #EarlyStopping(monitor='val_loss', min_delta=0, patience = 4, verbose=1, mode='auto', restore_best_weights = True),\n",
    "            TensorBoard(log_dir='./Graph', histogram_freq=0, write_graph=True, write_images=True),\n",
    "            #ReduceLROnPlateau(monitor='val_loss', factor=0.001, patience=1, min_lr=0.000001, min_delta = 0.1, verbose=1)\n",
    "            ]"
   ]
  },
  {
   "cell_type": "code",
   "execution_count": null,
   "metadata": {
    "id": "OPINnuGO2drb"
   },
   "outputs": [],
   "source": [
    "TRAIN_STEPS_PER_EPOCH = np.math.ceil(train_generator.samples/train_generator.batch_size)\n",
    "VALIDATION_STEPS_PER_EPOCH = np.math.ceil(validation_generator.samples/validation_generator.batch_size)"
   ]
  },
  {
   "cell_type": "code",
   "execution_count": null,
   "metadata": {
    "id": "Ay9aK7ZrG4qb"
   },
   "outputs": [],
   "source": [
    "start = timeit.default_timer()\n",
    "\n",
    "#steps_per_epoch_train = train_generator.samples//train_generator.batch_size\n",
    "\n",
    "history = classifier.fit(\n",
    "      train_generator,  ##directory =\n",
    "      steps_per_epoch = TRAIN_STEPS_PER_EPOCH,    # images = batch_size * steps\n",
    "      epochs = EPOCHS,\n",
    "      validation_data = validation_generator,\n",
    "      validation_steps = VALIDATION_STEPS_PER_EPOCH,  # images = batch_size * steps\n",
    "      shuffle= False,   #False,\n",
    "      callbacks = CALLBACKS,\n",
    "      verbose = 1,\n",
    "      class_weight = cw\n",
    "      )\n",
    "\n",
    "\n",
    "stop = timeit.default_timer()\n",
    "\n",
    "print('Time: ', (stop - start)/60)"
   ]
  },
  {
   "cell_type": "code",
   "execution_count": null,
   "metadata": {
    "id": "q-sGXrjsNBsB"
   },
   "outputs": [],
   "source": [
    "Y_pred = classifier.predict(validation_generator, steps = VALIDATION_STEPS_PER_EPOCH)  \n",
    "Y_pred[Y_pred <= 0.5] = 0\n",
    "Y_pred[Y_pred > 0.5] = 1"
   ]
  },
  {
   "cell_type": "code",
   "execution_count": null,
   "metadata": {
    "id": "A3QvEQWSLxVs"
   },
   "outputs": [],
   "source": [
    "print('Confusion Matrix')\n",
    "cm = confusion_matrix(validation_generator.classes, Y_pred)\n",
    "print(cm)"
   ]
  },
  {
   "cell_type": "code",
   "execution_count": null,
   "metadata": {
    "id": "_M_KKO_b_kLO"
   },
   "outputs": [],
   "source": [
    "cm_pd = pd.DataFrame(cm , index = ['0','1'] , columns = ['0','1'])\n",
    "\n",
    "plt.figure(figsize = (6,5))\n",
    "sns.heatmap(cm_pd,cmap= \"Blues\", linecolor = 'black' , \n",
    "            linewidth = 1 , annot = True, fmt='',\n",
    "            xticklabels = ['Predicted Normal', 'Predicted Pneumonia'],\n",
    "            yticklabels = ['Actual Normal', 'Actual Pneumonia'])\n",
    "plt.yticks(rotation=0)\n",
    "plt.show()"
   ]
  },
  {
   "cell_type": "code",
   "execution_count": null,
   "metadata": {
    "id": "FDAOror6KWVm"
   },
   "outputs": [],
   "source": [
    "print('Classification Report')\n",
    "target_names = ['normal', 'opacity'] \n",
    "print(classification_report(validation_generator.classes, Y_pred, target_names=target_names))"
   ]
  },
  {
   "cell_type": "code",
   "execution_count": null,
   "metadata": {
    "id": "9ELHWhyXMHX2"
   },
   "outputs": [],
   "source": [
    "cm = pd.DataFrame(data = cm, index = [\"Actual Normal\", \"Actual Pneumonia\"], columns = [\"Predicted Normal\", \"Predicted Pneumonia\"])\n",
    "cm"
   ]
  },
  {
   "cell_type": "markdown",
   "metadata": {
    "id": "HMm3QDeLMt0W"
   },
   "source": [
    "We verifie our results on the test set."
   ]
  },
  {
   "cell_type": "code",
   "execution_count": null,
   "metadata": {
    "id": "qb33_WXt4iu4"
   },
   "outputs": [],
   "source": [
    "TEST_STEPS_PER_EPOCH = np.math.ceil(test_generator.samples / test_generator.batch_size)\n",
    "print(TEST_STEPS_PER_EPOCH)"
   ]
  },
  {
   "cell_type": "code",
   "execution_count": null,
   "metadata": {
    "id": "NqAbxSjC4ifG"
   },
   "outputs": [],
   "source": [
    "Y_pred = classifier.predict(test_generator, steps = TEST_STEPS_PER_EPOCH)  \n",
    "Y_pred[Y_pred <= 0.5] = 0\n",
    "Y_pred[Y_pred > 0.5] = 1"
   ]
  },
  {
   "cell_type": "code",
   "execution_count": null,
   "metadata": {
    "id": "TxPqnYUvsvZM"
   },
   "outputs": [],
   "source": [
    "print('Confusion Matrix')\n",
    "cm = confusion_matrix(test_generator.classes, Y_pred, labels = [0,1])\n",
    "print(cm)"
   ]
  },
  {
   "cell_type": "code",
   "execution_count": null,
   "metadata": {
    "id": "JQEUMywhAD_u"
   },
   "outputs": [],
   "source": [
    "cm_pd = pd.DataFrame(cm , index = ['0','1'] , columns = ['0','1'])\n",
    "\n",
    "plt.figure(figsize = (6,5))\n",
    "sns.heatmap(cm_pd,cmap= \"Blues\", linecolor = 'black' , \n",
    "            linewidth = 1 , annot = True, fmt='',\n",
    "            xticklabels = ['Predicted Normal', 'Predicted Pneumonia'],\n",
    "            yticklabels = ['Actual Normal', 'Actual Pneumonia'])\n",
    "plt.yticks(rotation=0)\n",
    "plt.show()"
   ]
  },
  {
   "cell_type": "code",
   "execution_count": null,
   "metadata": {
    "id": "EnBdvjUa4vt-"
   },
   "outputs": [],
   "source": [
    "print('Classification Report')\n",
    "target_names = ['normal', 'opacity'] \n",
    "print(classification_report(test_generator.classes, Y_pred, target_names=target_names))"
   ]
  },
  {
   "cell_type": "code",
   "execution_count": null,
   "metadata": {
    "id": "-h3wBI3_tXlb"
   },
   "outputs": [],
   "source": [
    "cm = pd.DataFrame(data = cm, index = [\"Actual Normal\", \"Actual Pneumonia\"], columns = [\"Predicted Normal\", \"Predicted Pneumonia\"])\n",
    "cm"
   ]
  },
  {
   "cell_type": "code",
   "execution_count": null,
   "metadata": {
    "id": "ohPts3YB9May"
   },
   "outputs": [],
   "source": [
    "test_score = classifier.evaluate(test_generator, steps = TEST_STEPS_PER_EPOCH)\n",
    "\n",
    "print('accuracy: {:.2f}%'.format(test_score[1]*100))\n",
    "print('Loss:', test_score[0])\n",
    "print(test_score)"
   ]
  },
  {
   "cell_type": "markdown",
   "metadata": {
    "id": "7OLc1REuQgwe"
   },
   "source": [
    "The thing is, precision and recall are highly used for imbalanced dataset because in an highly imbalanced dataset, a 99% accuracy can be meaningless."
   ]
  },
  {
   "cell_type": "code",
   "execution_count": null,
   "metadata": {
    "id": "0m0-lhJJG4mH"
   },
   "outputs": [],
   "source": [
    "classifier.save_weights('first_try.h5')"
   ]
  },
  {
   "cell_type": "code",
   "execution_count": null,
   "metadata": {
    "id": "bKaPFMNPG4jH"
   },
   "outputs": [],
   "source": [
    "train_loss = history.history['loss']\n",
    "train_acc = history.history['acc']\n",
    "validation_loss = history.history['val_loss']\n",
    "validation_acc = history.history['val_acc']"
   ]
  },
  {
   "cell_type": "code",
   "execution_count": null,
   "metadata": {
    "id": "UBQdQNukG4f_"
   },
   "outputs": [],
   "source": [
    "plt.plot(train_loss, linewidth = 3.0)\n",
    "plt.plot(validation_loss, linewidth = 3.0)\n",
    "plt.legend(['training Loss','Validation Loss'], fontsize = 18)\n",
    "plt.xlabel('Epochs', fontsize = 16)\n",
    "plt.ylabel('Loss', fontsize = 16)\n",
    "plt.title('Loss Curves', fontsize = 16)"
   ]
  },
  {
   "cell_type": "code",
   "execution_count": null,
   "metadata": {
    "id": "IVA-YfmqaxL0"
   },
   "outputs": [],
   "source": [
    "METRICS = [\n",
    "           metrics.TruePositives(name = 'tp'),\n",
    "           metrics.FalsePositives(name = 'fp'),\n",
    "           metrics.TrueNegatives(name = 'tn'),\n",
    "           metrics.FalseNegatives(name = 'fn'),\n",
    "           metrics.BinaryAccuracy(name = 'accuracy'),\n",
    "           metrics.Precision(name = 'precision'),\n",
    "           metrics.Recall(name = 'recall'),\n",
    "           metrics.AUC(name = 'auc'),\n",
    "\n",
    "\n",
    "]"
   ]
  },
  {
   "cell_type": "code",
   "execution_count": null,
   "metadata": {
    "id": "OwbqYqQdiSY5"
   },
   "outputs": [],
   "source": [
    "from keras import initializers"
   ]
  },
  {
   "cell_type": "code",
   "execution_count": null,
   "metadata": {
    "id": "JAV_ghvpdyuC"
   },
   "outputs": [],
   "source": [
    "BIAS_INITIALIZER = np.log((3110 + 773)/(1082 + 267))\n",
    "BIAS_INITIALIZER"
   ]
  },
  {
   "cell_type": "code",
   "execution_count": null,
   "metadata": {
    "id": "Lc-6Elf9axIR"
   },
   "outputs": [],
   "source": [
    "def CNN_model(optimizer='RMSprop',dropout=0.5,init='uniform',input_shape= INPUT_SHAPE, units = UNITS_DENSE, output_bias = BIAS_INITIALIZER):\n",
    "       #dense_nparams, activation='relu', input_shape=(nbr_features,), kernel_initializer=init,\n",
    "       model = Sequential([  \n",
    "       Conv2D(FEATURES_MAP, (3,3), activation='relu',input_shape= INPUT_SHAPE, kernel_initializer=init,),\n",
    "       MaxPooling2D(pool_size = (2,2)),\n",
    "       #Dropout(dropout),\n",
    "       Conv2D(FEATURES_MAP, (3,3), activation='relu'),\n",
    "       MaxPooling2D(pool_size = (2,2)),\n",
    "       #Dropout(dropout),\n",
    "       Conv2D(2*FEATURES_MAP, (3,3), activation='relu'), \n",
    "       MaxPooling2D(pool_size = (2,2)),\n",
    "       #Dropout(dropout),\n",
    "       # Flatten the results to feed into a DNN\n",
    "       Flatten(), \n",
    "       Dense(units = UNITS_DENSE, activation='relu'), \n",
    "       Dense(units = 1, activation = 'sigmoid', bias_initializer = initializers.Constant(output_bias))])\n",
    "       model.compile(optimizer = optimizer, loss = 'binary_crossentropy', metrics = ['acc'])\n",
    "       return model"
   ]
  },
  {
   "cell_type": "code",
   "execution_count": null,
   "metadata": {
    "id": "4OTuXga6axEe"
   },
   "outputs": [],
   "source": [
    "classifier = CNN_model(optimizer='adam', dropout=0.5, init='uniform', units = UNITS_DENSE, output_bias = BIAS_INITIALIZER)"
   ]
  },
  {
   "cell_type": "code",
   "execution_count": null,
   "metadata": {
    "id": "CK-B3jfJaxAq"
   },
   "outputs": [],
   "source": [
    "CALLBACKS = [\n",
    "            ##EarlyStopping(monitor='acc', min_delta=0, patience=2, verbose=2, mode='auto', restore_best_weights = True),\n",
    "             ##val_loss\n",
    "            TensorBoard(log_dir='./Graph', histogram_freq=0, write_graph=True, write_images=True)]  "
   ]
  },
  {
   "cell_type": "code",
   "execution_count": null,
   "metadata": {
    "id": "E-vJIXFsaw-C"
   },
   "outputs": [],
   "source": [
    "TRAIN_STEPS_PER_EPOCH = np.math.ceil(train_generator.samples/train_generator.batch_size)\n",
    "VALIDATION_STEPS_PER_EPOCH = np.math.ceil(validation_generator.samples/validation_generator.batch_size)"
   ]
  },
  {
   "cell_type": "code",
   "execution_count": null,
   "metadata": {
    "id": "9wXVsDdIaw7S"
   },
   "outputs": [],
   "source": [
    "import timeit\n",
    "\n",
    "start = timeit.default_timer()\n",
    "\n",
    "#steps_per_epoch_train = train_generator.samples//train_generator.batch_size\n",
    "\n",
    "history = classifier.fit(\n",
    "      train_generator,  ##directory =\n",
    "      steps_per_epoch = TRAIN_STEPS_PER_EPOCH,    # images = batch_size * steps\n",
    "      epochs = EPOCHS,\n",
    "      validation_data = validation_generator,\n",
    "      validation_steps = VALIDATION_STEPS_PER_EPOCH,  # images = batch_size * steps\n",
    "      shuffle= False,   #False,\n",
    "      callbacks = CALLBACKS,\n",
    "      verbose = 1\n",
    "      )\n",
    "\n",
    "\n",
    "stop = timeit.default_timer()\n",
    "\n",
    "print('Time: ', (stop - start)/60)"
   ]
  },
  {
   "cell_type": "code",
   "execution_count": null,
   "metadata": {
    "id": "Wz_Xx37Zaw4j"
   },
   "outputs": [],
   "source": [
    "Y_pred = classifier.predict(validation_generator, steps = VALIDATION_STEPS_PER_EPOCH)  # ceil(num_of_test_samples / batch_size)\n",
    "Y_pred[Y_pred <= 0.5] = 0\n",
    "Y_pred[Y_pred > 0.5] = 1"
   ]
  },
  {
   "cell_type": "code",
   "execution_count": null,
   "metadata": {
    "id": "7avIZ3sraw19"
   },
   "outputs": [],
   "source": [
    "print('Confusion Matrix')\n",
    "cm = confusion_matrix(validation_generator.classes, Y_pred)\n",
    "print(cm)"
   ]
  },
  {
   "cell_type": "code",
   "execution_count": null,
   "metadata": {
    "id": "ngRXoHZQOI-U"
   },
   "outputs": [],
   "source": [
    "cm_pd = pd.DataFrame(cm , index = ['0','1'] , columns = ['0','1'])\n",
    "\n",
    "plt.figure(figsize = (6,5))\n",
    "sns.heatmap(cm_pd,cmap= \"Blues\", linecolor = 'black' , \n",
    "            linewidth = 1 , annot = True, fmt='',\n",
    "            xticklabels = ['Predicted Normal', 'Predicted Pneumonia'],\n",
    "            yticklabels = ['Actual Normal', 'Actual Pneumonia'])\n",
    "plt.yticks(rotation=0)\n",
    "plt.show()"
   ]
  },
  {
   "cell_type": "code",
   "execution_count": null,
   "metadata": {
    "id": "K-hio5l8awzR"
   },
   "outputs": [],
   "source": [
    "print('Classification Report')\n",
    "target_names = ['normal', 'opacity'] \n",
    "print(classification_report(validation_generator.classes, Y_pred, target_names=target_names))"
   ]
  },
  {
   "cell_type": "code",
   "execution_count": null,
   "metadata": {
    "id": "pSHAtCpPawwr"
   },
   "outputs": [],
   "source": [
    "cm = pd.DataFrame(data = cm, index = [\"Actual Normal\", \"Actual Pneumonia\"], columns = [\"Predicted Normal\", \"Predicted Pneumonia\"])\n",
    "cm"
   ]
  },
  {
   "cell_type": "code",
   "execution_count": null,
   "metadata": {
    "id": "8RiJyPyqawuA"
   },
   "outputs": [],
   "source": [
    "STEPS_PER_EPOCH_TEST = np.math.ceil(test_generator.samples / test_generator.batch_size)\n",
    "print(STEPS_PER_EPOCH_TEST)"
   ]
  },
  {
   "cell_type": "code",
   "execution_count": null,
   "metadata": {
    "id": "hdTcKHpQgNb5"
   },
   "outputs": [],
   "source": [
    "Y_pred = classifier.predict(test_generator, steps = STEPS_PER_EPOCH_TEST)  # ceil(num_of_test_samples / batch_size)\n",
    "Y_pred[Y_pred <= 0.5] = 0\n",
    "Y_pred[Y_pred > 0.5] = 1"
   ]
  },
  {
   "cell_type": "code",
   "execution_count": null,
   "metadata": {
    "id": "8CriwmNwgNXq"
   },
   "outputs": [],
   "source": [
    "print('Confusion Matrix')\n",
    "cm = confusion_matrix(test_generator.classes, Y_pred, labels = [0,1])\n",
    "print(cm)"
   ]
  },
  {
   "cell_type": "code",
   "execution_count": null,
   "metadata": {
    "id": "QkSCl3HdORHv"
   },
   "outputs": [],
   "source": [
    "cm_pd = pd.DataFrame(cm , index = ['0','1'] , columns = ['0','1'])\n",
    "\n",
    "plt.figure(figsize = (6,5))\n",
    "sns.heatmap(cm_pd,cmap= \"Blues\", linecolor = 'black' , \n",
    "            linewidth = 1 , annot = True, fmt='',\n",
    "            xticklabels = ['Predicted Normal', 'Predicted Pneumonia'],\n",
    "            yticklabels = ['Actual Normal', 'Actual Pneumonia'])\n",
    "plt.yticks(rotation=0)\n",
    "plt.show()"
   ]
  },
  {
   "cell_type": "code",
   "execution_count": null,
   "metadata": {
    "id": "GHnjrCVQgNUi"
   },
   "outputs": [],
   "source": [
    "print('Classification Report')\n",
    "target_names = ['normal', 'opacity'] \n",
    "print(classification_report(test_generator.classes, Y_pred, target_names=target_names))"
   ]
  },
  {
   "cell_type": "code",
   "execution_count": null,
   "metadata": {
    "id": "zp0XvZOGgNR5"
   },
   "outputs": [],
   "source": [
    "cm = pd.DataFrame(data = cm, index = [\"Actual Normal\", \"Actual Pneumonia\"], columns = [\"Predicted Normal\", \"Predicted Pneumonia\"])\n",
    "cm"
   ]
  },
  {
   "cell_type": "code",
   "execution_count": null,
   "metadata": {
    "id": "bxQ8aQwigNPI"
   },
   "outputs": [],
   "source": [
    "test_score = classifier.evaluate(test_generator, steps = STEPS_PER_EPOCH_TEST)\n",
    "\n",
    "print('accuracy: {:.2f}%'.format(test_score[1]*100))\n",
    "print('Loss:', test_score[0])"
   ]
  },
  {
   "cell_type": "markdown",
   "metadata": {
    "id": "nLgSpEKhkYV4"
   },
   "source": [
    "To make the various training runs more comparable, keep this initial model's weights in a checkpoint file, and load them into each model before training."
   ]
  },
  {
   "cell_type": "code",
   "execution_count": null,
   "metadata": {
    "id": "iOnRDCIgoCS9"
   },
   "outputs": [],
   "source": [
    "import os\n",
    "import tempfile"
   ]
  },
  {
   "cell_type": "code",
   "execution_count": null,
   "metadata": {
    "id": "ilCAtQ_dgNMV"
   },
   "outputs": [],
   "source": [
    "initial_weights = os.path.join(tempfile.mkdtemp(), 'initial_weights')\n",
    "classifier.save_weights(initial_weights)"
   ]
  },
  {
   "cell_type": "markdown",
   "metadata": {
    "id": "Y-k-FLhTlItm"
   },
   "source": [
    "Cofirm that the bias fix helps:\n",
    "Before moving on, confirm quick that the careful bias initialization actually helped.\n",
    "Train the model for EPOCHS epochs, with and without this careful initialization, and compare the losses"
   ]
  },
  {
   "cell_type": "code",
   "execution_count": null,
   "metadata": {
    "id": "AT6sPY8tgNI3"
   },
   "outputs": [],
   "source": [
    "model = CNN_model()\n",
    "model.load_weights(initial_weights)\n",
    "model.layers[-1].bias.assign([0.0])\n",
    "zero_bias_history = model.fit(\n",
    "      train_generator,  ##directory =\n",
    "      steps_per_epoch = TRAIN_STEPS_PER_EPOCH,    # images = batch_size * steps\n",
    "      epochs = EPOCHS,\n",
    "      validation_data = validation_generator,\n",
    "      validation_steps = VALIDATION_STEPS_PER_EPOCH,  # images = batch_size * steps\n",
    "      shuffle= False,   #False,\n",
    "      verbose = 1   \n",
    "      )"
   ]
  },
  {
   "cell_type": "code",
   "execution_count": null,
   "metadata": {
    "id": "FdBSuSNCawqU"
   },
   "outputs": [],
   "source": [
    "model = CNN_model()\n",
    "model.load_weights(initial_weights)\n",
    "careful_bias_history = model.fit(\n",
    "      train_generator,  ##directory =\n",
    "      steps_per_epoch = TRAIN_STEPS_PER_EPOCH,    # images = batch_size * steps\n",
    "      epochs = EPOCHS,\n",
    "      validation_data = validation_generator,\n",
    "      validation_steps = VALIDATION_STEPS_PER_EPOCH,  # images = batch_size * steps\n",
    "      shuffle= False,   #False,\n",
    "      verbose = 1   \n",
    "      )"
   ]
  },
  {
   "cell_type": "code",
   "execution_count": null,
   "metadata": {
    "id": "q6NCHWgyrjj0"
   },
   "outputs": [],
   "source": [
    "colors = plt.rcParams['axes.prop_cycle'].by_key()['color']"
   ]
  },
  {
   "cell_type": "code",
   "execution_count": null,
   "metadata": {
    "id": "G5VpCJinozNz"
   },
   "outputs": [],
   "source": [
    "def plot_loss(history, label, n):\n",
    "  plt.semilogy(history.epoch, history.history['loss'],\n",
    "               color = colors[n], label='Train'+label)\n",
    "  plt.semilogy(history.epoch, history.history['val_loss'],\n",
    "               color = colors[n], label = 'Val'+label, linestyle='--')\n",
    "  plt.xlabel('Epoch')\n",
    "  plt.ylabel('Loss')"
   ]
  },
  {
   "cell_type": "code",
   "execution_count": null,
   "metadata": {
    "id": "l3iaqTiIozK_"
   },
   "outputs": [],
   "source": [
    "plot_loss(zero_bias_history, 'Zero Bias', 0)\n",
    "plot_loss(careful_bias_history, 'Careful Bias', 1)"
   ]
  },
  {
   "cell_type": "markdown",
   "metadata": {
    "id": "Zub2Q8S9qFyk"
   },
   "source": [
    "Train The model"
   ]
  },
  {
   "cell_type": "code",
   "execution_count": null,
   "metadata": {
    "id": "lTQNXB3oozIW"
   },
   "outputs": [],
   "source": [
    "model = CNN_model()\n",
    "model.load_weights(initial_weights)\n",
    "baseline_history = model.fit(\n",
    "      train_generator,  ##directory =\n",
    "      steps_per_epoch = TRAIN_STEPS_PER_EPOCH,    # images = batch_size * steps\n",
    "      epochs = EPOCHS,\n",
    "      validation_data = validation_generator,\n",
    "      validation_steps = VALIDATION_STEPS_PER_EPOCH,  # images = batch_size * steps\n",
    "      shuffle = False,   #False,\n",
    "      callbacks = CALLBACKS,\n",
    "      verbose = 1   \n",
    "      )"
   ]
  },
  {
   "cell_type": "markdown",
   "metadata": {
    "id": "i4-oxLeftT9X"
   },
   "source": [
    "In this section, we will produce plos of our model's accuracy and loss on the training and validation set. These are useful to check for overfitting, which you can learn more about in this tutorial.\n",
    "Additionaly, you can produce these plots for any of the metrics you created above. False negtives are included as an example. "
   ]
  },
  {
   "cell_type": "code",
   "execution_count": null,
   "metadata": {
    "id": "Fbz74KfgozEq"
   },
   "outputs": [],
   "source": [
    "def plot_metrics(history):\n",
    "  metrics = ['loss', 'auc', 'precision', 'recall']\n",
    "  for n, metric in enumerate(metrics):\n",
    "    name = metric.replace('_', ' ').capitalize()\n",
    "    plt.subplot(2,2,n+1)\n",
    "    plt.plot(history.epoch, history.history[metric], color = colors[0], label = 'Train')\n",
    "    plt.plot(history.epoch, history.history['val_'+metric], color=colors[0], linestyle='--', label='Val')\n",
    "    plt.xlabel('Epoch')\n",
    "    plt.ylabel(name)\n",
    "    if metric == 'loss':\n",
    "      plt.ylim([0, plt.ylim()[1]])\n",
    "    elif metric == 'auc':\n",
    "      plt.ylim([0.8,1])\n",
    "    else:\n",
    "      plt.ylim([0,1])\n",
    "    plt.legend()"
   ]
  },
  {
   "cell_type": "code",
   "execution_count": null,
   "metadata": {
    "id": "T54LtvZpozBq"
   },
   "outputs": [],
   "source": [
    "plot_metrics(baseline_history)"
   ]
  },
  {
   "cell_type": "markdown",
   "metadata": {
    "id": "I3blHd-swOf1"
   },
   "source": [
    "Evaluate Metrics "
   ]
  },
  {
   "cell_type": "code",
   "execution_count": null,
   "metadata": {
    "id": "ua83clNBoy-5"
   },
   "outputs": [],
   "source": []
  },
  {
   "cell_type": "code",
   "execution_count": null,
   "metadata": {
    "id": "cFvXKtKOoy8P"
   },
   "outputs": [],
   "source": []
  },
  {
   "cell_type": "code",
   "execution_count": null,
   "metadata": {
    "id": "-Fx4KRHxoy5W"
   },
   "outputs": [],
   "source": []
  },
  {
   "cell_type": "code",
   "execution_count": null,
   "metadata": {
    "id": "TbnPuU-2oy2Q"
   },
   "outputs": [],
   "source": []
  },
  {
   "cell_type": "code",
   "execution_count": null,
   "metadata": {
    "id": "laBoW3pnoyy2"
   },
   "outputs": [],
   "source": []
  },
  {
   "cell_type": "code",
   "execution_count": null,
   "metadata": {
    "id": "NZ8IL3NeawnH"
   },
   "outputs": [],
   "source": []
  },
  {
   "cell_type": "markdown",
   "metadata": {
    "id": "dlLPjqeqdB3z"
   },
   "source": [
    "Transfert Learniiiing"
   ]
  },
  {
   "cell_type": "markdown",
   "metadata": {
    "id": "B0EKKsKBpMKW"
   },
   "source": [
    "The typical transfer-learning workflow"
   ]
  },
  {
   "cell_type": "code",
   "execution_count": null,
   "metadata": {
    "id": "oNkCXr7ChPDp"
   },
   "outputs": [],
   "source": []
  },
  {
   "cell_type": "code",
   "execution_count": null,
   "metadata": {
    "id": "jv2_xIoNvrnD"
   },
   "outputs": [],
   "source": [
    "EPOCHS = 20\n",
    "SEED = 42\n",
    "\n",
    "WIDTH = 224 #150\n",
    "HEIGHT = 224 #150 \n",
    "DEPTH = 1\n",
    "DEPTH_RGB = 3\n",
    "INPUT_SHAPE = (WIDTH, HEIGHT, DEPTH)\n",
    "INPUT_SHAPE_RGB = (WIDTH, HEIGHT, DEPTH_RGB)\n",
    "TARGET_SIZE = (WIDTH , HEIGHT)\n",
    "BATCH_SIZE = 100     \n",
    "COLOR_MODE = 'grayscale'\n",
    "COLOR_MODE_RGB = 'rgb'\n",
    "CLASS_MODE = 'binary'\n",
    "UNITS_DENSE = 64\n",
    "FEATURES_MAP = 32"
   ]
  },
  {
   "cell_type": "code",
   "execution_count": null,
   "metadata": {
    "id": "jODAuvJ_G4ZY"
   },
   "outputs": [],
   "source": [
    "base_model = MobileNet(weights = 'imagenet', # Load weights pre-trained on ImageNet.\n",
    "                       input_shape = INPUT_SHAPE_RGB,   #(WIDTH, HEIGHT, DEPTH_RGB),\n",
    "                       include_top = False\n",
    "                       )\n",
    "\n",
    "x = base_model.output\n",
    "x = GlobalAveragePooling2D()(x)\n",
    "x = Dense(1024, activation = 'relu')(x)\n",
    "x = Dense(1024, activation = 'relu')(x)\n",
    "x = Dense(512, activation = 'relu')(x)\n",
    "preds = Dense(1, activation = 'sigmoid')(x)"
   ]
  },
  {
   "cell_type": "code",
   "execution_count": null,
   "metadata": {
    "id": "EkL1N3emllEq"
   },
   "outputs": [],
   "source": [
    "base_model.trainable = False"
   ]
  },
  {
   "cell_type": "code",
   "execution_count": null,
   "metadata": {
    "id": "zxCz0tCwlsC9"
   },
   "outputs": [],
   "source": [
    "#inputs = Input(shape = (WIDTH, HEIGHT, DEPTH_RGB))\n",
    "# We make sure that the base_model is running in inference mode here,\n",
    "# by passing `training=False`. This is important for fine-tuning, as you will\n",
    "# learn in a few paragraphs.\n",
    "model = Model(inputs = base_model.input, outputs =preds) ##inputs,"
   ]
  },
  {
   "cell_type": "code",
   "execution_count": null,
   "metadata": {
    "id": "A9esbr-jnnec"
   },
   "outputs": [],
   "source": [
    "model.compile(optimizer = 'adam',\n",
    "              loss = 'binary_crossentropy',#'binary_crossentropy', BinaryCrossentropy(from_logits=True)\n",
    "              metrics = ['acc']\n",
    "              )"
   ]
  },
  {
   "cell_type": "code",
   "execution_count": null,
   "metadata": {
    "id": "z7O0Pf0Avrj7"
   },
   "outputs": [],
   "source": [
    "# All images will be rescaled by 1./255\n",
    "train_datagen = ImageDataGenerator(rescale=1./255,\n",
    "                                   #shear_range = ,\n",
    "                                   #zoom_range = ,\n",
    "                                   vertical_flip = True,\n",
    "                                   #horizontal_flip = True,\n",
    "                                   )\n",
    "\n",
    "\n",
    "# Flow training images in batches of xx using train_datagen generator\n",
    "train_generator = train_datagen.flow_from_directory(\n",
    "        directory = train_directory,  # This is the source directory for training images\n",
    "        target_size = TARGET_SIZE,  # All images will be resized to 150x150 \n",
    "        batch_size = BATCH_SIZE,        \n",
    "        color_mode = COLOR_MODE_RGB,\n",
    "        # Since we use binary_crossentropy loss, we need binary labels\n",
    "        class_mode= CLASS_MODE,    \n",
    "        shuffle = False,\n",
    "        seed = 442,\n",
    "        )"
   ]
  },
  {
   "cell_type": "code",
   "execution_count": null,
   "metadata": {
    "id": "oBIFYjX_vrg9"
   },
   "outputs": [],
   "source": [
    "validation_datagen = ImageDataGenerator(rescale=1./255)\n",
    "\n",
    "# Flow validation images in batches of xx using validation_datagen generator\n",
    "validation_generator = validation_datagen.flow_from_directory(\n",
    "        directory = validation_directory,\n",
    "        target_size = TARGET_SIZE,\n",
    "        batch_size = BATCH_SIZE,\n",
    "        color_mode = COLOR_MODE_RGB,\n",
    "        class_mode= CLASS_MODE,    \n",
    "        shuffle = False,\n",
    "        seed = 442,\n",
    "        )"
   ]
  },
  {
   "cell_type": "code",
   "execution_count": null,
   "metadata": {
    "id": "CoczGR1tvrd_"
   },
   "outputs": [],
   "source": [
    "test_datagen = ImageDataGenerator(rescale=1./255)\n",
    "\n",
    "# Flow validation images in batches of xx using validation_datagen generator\n",
    "test_generator = test_datagen.flow_from_directory(\n",
    "        directory = test_directory,\n",
    "        target_size = TARGET_SIZE,\n",
    "        batch_size = BATCH_SIZE,\n",
    "        color_mode = COLOR_MODE_RGB,\n",
    "        class_mode = None,    ##CLASS_MODE le test galik makandirouhch\n",
    "        shuffle = False,\n",
    "        seed = 442,\n",
    "        )"
   ]
  },
  {
   "cell_type": "code",
   "execution_count": null,
   "metadata": {
    "id": "PYyKJW7doelW"
   },
   "outputs": [],
   "source": [
    "import timeit\n",
    "start = timeit.default_timer()\n",
    "\n",
    "history = model.fit(\n",
    "      train_generator,  ##directory =\n",
    "      steps_per_epoch = TRAIN_STEPS_PER_EPOCH,    # images = batch_size * steps\n",
    "      epochs = EPOCHS,\n",
    "      validation_data = validation_generator,\n",
    "      validation_steps = VALIDATION_STEPS_PER_EPOCH,  # images = batch_size * steps\n",
    "      shuffle= False,   #False,\n",
    "      callbacks = CALLBACKS,\n",
    "      verbose = 1\n",
    "      )\n",
    "\n",
    "\n",
    "stop = timeit.default_timer()\n",
    "\n",
    "print('Time: ', (stop - start)/60)"
   ]
  },
  {
   "cell_type": "code",
   "execution_count": null,
   "metadata": {
    "id": "PXoZ7FCfvra3"
   },
   "outputs": [],
   "source": [
    "Y_pred = model.predict(validation_generator, steps = VALIDATION_STEPS_PER_EPOCH)  # ceil(num_of_test_samples / batch_size)\n",
    "Y_pred[Y_pred <= 0.5] = 0\n",
    "Y_pred[Y_pred > 0.5] = 1"
   ]
  },
  {
   "cell_type": "code",
   "execution_count": null,
   "metadata": {
    "id": "38AoYxy2vrX8"
   },
   "outputs": [],
   "source": [
    "print('Confusion Matrix')\n",
    "cm = confusion_matrix(validation_generator.classes, Y_pred)\n",
    "print(cm)"
   ]
  },
  {
   "cell_type": "code",
   "execution_count": null,
   "metadata": {
    "id": "EoJwvg1avrU4"
   },
   "outputs": [],
   "source": [
    "cm_pd = pd.DataFrame(cm , index = ['0','1'] , columns = ['0','1'])\n",
    "\n",
    "plt.figure(figsize = (6,5))\n",
    "sns.heatmap(cm_pd,cmap= \"Blues\", linecolor = 'black' , \n",
    "            linewidth = 1 , annot = True, fmt='',\n",
    "            xticklabels = ['Predicted Normal', 'Predicted Pneumonia'],\n",
    "            yticklabels = ['Actual Normal', 'Actual Pneumonia'])\n",
    "plt.yticks(rotation=0)\n",
    "plt.show()"
   ]
  },
  {
   "cell_type": "code",
   "execution_count": null,
   "metadata": {
    "id": "Hhv4U6EivrR9"
   },
   "outputs": [],
   "source": [
    "print('Classification Report')\n",
    "target_names = ['normal', 'opacity'] \n",
    "print(classification_report(validation_generator.classes, Y_pred, target_names=target_names))"
   ]
  },
  {
   "cell_type": "code",
   "execution_count": null,
   "metadata": {
    "id": "WdHBMFo5vrOL"
   },
   "outputs": [],
   "source": [
    "cm = pd.DataFrame(data = cm, index = [\"Actual Normal\", \"Actual Pneumonia\"], columns = [\"Predicted Normal\", \"Predicted Pneumonia\"])\n",
    "cm"
   ]
  },
  {
   "cell_type": "markdown",
   "metadata": {
    "id": "V8bLGnov7UIT"
   },
   "source": [
    "TEST"
   ]
  },
  {
   "cell_type": "code",
   "execution_count": null,
   "metadata": {
    "id": "iX4NUsSV8bZE"
   },
   "outputs": [],
   "source": [
    "STEPS_PER_EPOCH_TEST = np.math.ceil(test_generator.samples / test_generator.batch_size)"
   ]
  },
  {
   "cell_type": "code",
   "execution_count": null,
   "metadata": {
    "id": "yy9CNaZkvrKj"
   },
   "outputs": [],
   "source": [
    "Y_pred = model.predict(test_generator, steps = STEPS_PER_EPOCH_TEST)  # ceil(num_of_test_samples / batch_size)\n",
    "Y_pred[Y_pred <= 0.5] = 0\n",
    "Y_pred[Y_pred > 0.5] = 1"
   ]
  },
  {
   "cell_type": "code",
   "execution_count": null,
   "metadata": {
    "id": "qW_eOeXgvrHB"
   },
   "outputs": [],
   "source": [
    "print('Confusion Matrix')\n",
    "cm = confusion_matrix(test_generator.classes, Y_pred, labels = [0,1])\n",
    "print(cm)"
   ]
  },
  {
   "cell_type": "code",
   "execution_count": null,
   "metadata": {
    "id": "PyHXBReYvrCT"
   },
   "outputs": [],
   "source": [
    "cm_pd = pd.DataFrame(cm , index = ['0','1'] , columns = ['0','1'])\n",
    "\n",
    "plt.figure(figsize = (6,5))\n",
    "sns.heatmap(cm_pd,cmap= \"Blues\", linecolor = 'black' , \n",
    "            linewidth = 1 , annot = True, fmt='',\n",
    "            xticklabels = ['Predicted Normal', 'Predicted Pneumonia'],\n",
    "            yticklabels = ['Actual Normal', 'Actual Pneumonia'])\n",
    "plt.yticks(rotation=0)\n",
    "plt.show()"
   ]
  },
  {
   "cell_type": "code",
   "execution_count": null,
   "metadata": {
    "id": "69g0FfCxvq-R"
   },
   "outputs": [],
   "source": [
    "print('Classification Report')\n",
    "target_names = ['normal', 'opacity'] \n",
    "print(classification_report(test_generator.classes, Y_pred, target_names=target_names))"
   ]
  },
  {
   "cell_type": "code",
   "execution_count": null,
   "metadata": {
    "id": "bzovB8G_cWc0"
   },
   "outputs": [],
   "source": [
    "cm = pd.DataFrame(data = cm, index = [\"Actual Normal\", \"Actual Pneumonia\"], columns = [\"Predicted Normal\", \"Predicted Pneumonia\"])\n",
    "cm"
   ]
  },
  {
   "cell_type": "code",
   "execution_count": null,
   "metadata": {
    "id": "tsNqajaZcWWc"
   },
   "outputs": [],
   "source": [
    "test_score = model.evaluate(test_generator, steps =1000)\n",
    "## batch_size = BATCH_SIZE\n",
    "##steps = STEPS_PER_EPOCH_TEST\n",
    "test_score\n",
    "#print('accuracy: {:.2f}%'.format(test_score[1]*100))\n",
    "#print('Loss:', test_score[0])"
   ]
  },
  {
   "cell_type": "code",
   "execution_count": null,
   "metadata": {
    "id": "7j54SOL3cVja"
   },
   "outputs": [],
   "source": []
  },
  {
   "cell_type": "code",
   "execution_count": null,
   "metadata": {
    "id": "9tQAse2DcUsZ"
   },
   "outputs": [],
   "source": []
  },
  {
   "cell_type": "code",
   "execution_count": null,
   "metadata": {
    "id": "TAuAWvBucUoj"
   },
   "outputs": [],
   "source": []
  },
  {
   "cell_type": "code",
   "execution_count": null,
   "metadata": {
    "id": "1Wd6nXdOcT38"
   },
   "outputs": [],
   "source": []
  },
  {
   "cell_type": "code",
   "execution_count": null,
   "metadata": {
    "id": "WhBaYZhbcTzv"
   },
   "outputs": [],
   "source": []
  },
  {
   "cell_type": "code",
   "execution_count": null,
   "metadata": {
    "id": "ALvQjgYscTD2"
   },
   "outputs": [],
   "source": []
  },
  {
   "cell_type": "code",
   "execution_count": null,
   "metadata": {
    "id": "yT0BNdF6cS_D"
   },
   "outputs": [],
   "source": []
  },
  {
   "cell_type": "code",
   "execution_count": null,
   "metadata": {
    "id": "YCyV1cmYcSNo"
   },
   "outputs": [],
   "source": []
  },
  {
   "cell_type": "code",
   "execution_count": null,
   "metadata": {
    "id": "uO0tzBkQcSBG"
   },
   "outputs": [],
   "source": []
  },
  {
   "cell_type": "code",
   "execution_count": null,
   "metadata": {
    "id": "jqFj4jwIcRMs"
   },
   "outputs": [],
   "source": []
  },
  {
   "cell_type": "code",
   "execution_count": null,
   "metadata": {
    "id": "KgsXseaHcQPy"
   },
   "outputs": [],
   "source": []
  },
  {
   "cell_type": "code",
   "execution_count": null,
   "metadata": {
    "id": "yJj79-0ccPt9"
   },
   "outputs": [],
   "source": []
  },
  {
   "cell_type": "code",
   "execution_count": null,
   "metadata": {
    "id": "ZKmrm0UPcPk2"
   },
   "outputs": [],
   "source": []
  },
  {
   "cell_type": "code",
   "execution_count": null,
   "metadata": {
    "id": "SQ-ax8r-cPeE"
   },
   "outputs": [],
   "source": []
  },
  {
   "cell_type": "code",
   "execution_count": null,
   "metadata": {
    "id": "rT_8F6GJcPYm"
   },
   "outputs": [],
   "source": []
  },
  {
   "cell_type": "code",
   "execution_count": null,
   "metadata": {
    "id": "fLma2BducPTR"
   },
   "outputs": [],
   "source": []
  },
  {
   "cell_type": "code",
   "execution_count": null,
   "metadata": {
    "id": "rzTjTYIYcPPa"
   },
   "outputs": [],
   "source": []
  },
  {
   "cell_type": "code",
   "execution_count": null,
   "metadata": {
    "id": "lLnWQDNxcPK8"
   },
   "outputs": [],
   "source": []
  },
  {
   "cell_type": "code",
   "execution_count": null,
   "metadata": {
    "id": "Pdijy8u2cPCL"
   },
   "outputs": [],
   "source": []
  },
  {
   "cell_type": "code",
   "execution_count": null,
   "metadata": {
    "id": "mHQ-VObDcO7b"
   },
   "outputs": [],
   "source": []
  },
  {
   "cell_type": "code",
   "execution_count": null,
   "metadata": {
    "id": "723avq9XcOzG"
   },
   "outputs": [],
   "source": []
  },
  {
   "cell_type": "code",
   "execution_count": null,
   "metadata": {
    "id": "_pR9sxcQcOo9"
   },
   "outputs": [],
   "source": []
  },
  {
   "cell_type": "code",
   "execution_count": null,
   "metadata": {
    "id": "2JUImoxKcOfp"
   },
   "outputs": [],
   "source": []
  },
  {
   "cell_type": "code",
   "execution_count": null,
   "metadata": {
    "id": "1Nw4L4rccOY4"
   },
   "outputs": [],
   "source": []
  },
  {
   "cell_type": "code",
   "execution_count": null,
   "metadata": {
    "id": "Jq5gnkJDcOSw"
   },
   "outputs": [],
   "source": []
  },
  {
   "cell_type": "code",
   "execution_count": null,
   "metadata": {
    "id": "fo5_0wtjcOEy"
   },
   "outputs": [],
   "source": []
  },
  {
   "cell_type": "code",
   "execution_count": null,
   "metadata": {
    "id": "crEERJa_G4Wb"
   },
   "outputs": [],
   "source": []
  },
  {
   "cell_type": "code",
   "execution_count": null,
   "metadata": {
    "id": "sBKscn5jG4Tf"
   },
   "outputs": [],
   "source": [
    "!pip install scikit-optimize"
   ]
  },
  {
   "cell_type": "code",
   "execution_count": null,
   "metadata": {
    "id": "DvEkK1U6G4QX"
   },
   "outputs": [],
   "source": [
    "#imports we know we'll need\n",
    "import skopt\n",
    "from skopt import gbrt_minimize, gp_minimize\n",
    "from skopt.utils import use_named_args\n",
    "from skopt.space import Real, Categorical, Integer"
   ]
  },
  {
   "cell_type": "code",
   "execution_count": null,
   "metadata": {
    "id": "UH_LThd_G4NG"
   },
   "outputs": [],
   "source": [
    "DIM_LEARNING_RATE = Real(low=1e-4, high=1e-1, prior='log-uniform', name='learning_rate')\n",
    "#DIM_NIM_CONV_LAYERS = Integer(low=1, high=4, name='num_conv_layers')\n",
    "DIM_NUM_FILTERS = Integer(low=16, high=128, name='num_filters')\n",
    "DIM_KERNEL_SIZE = Categorical(categories=[(3,3),(4,4)], name='kernel_size')\n",
    "DIM_POOL_SIZE = Categorical(categories=[(2,2),(5,5)], name='pool_size')\n",
    "DIM_DROPOUT_RATE = Real(low=0, high=1, prior='uniform', name='dropout_rate')\n",
    "DIM_NUM_DENSE_LAYERS = Integer(low=1, high=5, name='num_dense_layers')\n",
    "DIM_NUM_INPUT_NODES = Integer(low=10, high=512, name='num_input_nodes')\n",
    "DIM_NUM_DENSE_NODES = Integer(low=1, high=28, name='num_dense_nodes')\n",
    "DIM_ACTIVATION = Categorical(categories=['relu', 'sigmoid'], name='activation')\n",
    "DIM_BATCH_SIZE = Integer(low=1, high=128, name='batch_size')\n",
    "DIM_ADAM_DECAY = Real(low=1e-6,high=1e-2,name=\"adam_decay\")\n",
    "\n",
    "DIMENSIONS = [DIM_LEARNING_RATE,\n",
    "              #dim_num_conv_layers,\n",
    "              DIM_NUM_FILTERS,\n",
    "              DIM_KERNEL_SIZE,\n",
    "              DIM_POOL_SIZE,\n",
    "              DIM_DROPOUT_RATE,\n",
    "              DIM_NUM_DENSE_LAYERS,\n",
    "              DIM_NUM_INPUT_NODES,\n",
    "              DIM_NUM_DENSE_NODES,\n",
    "              DIM_ACTIVATION,\n",
    "              DIM_BATCH_SIZE,\n",
    "              DIM_ADAM_DECAY\n",
    "             ]\n",
    "\n",
    "DEFAULT_PARAMETERS = [1e-3, 32, (3,3), (2,2), 0.5, 1, 512, 13, 'relu',64, 1e-3]\n",
    "#learning_rate, num_conv_layers, num_filters, kernel_size, pool_size, num_dense_layers,num_input_nodes,num_dense_nodes, activation, adam_decay"
   ]
  },
  {
   "cell_type": "code",
   "execution_count": null,
   "metadata": {
    "id": "11bmYuJlG4KG"
   },
   "outputs": [],
   "source": [
    "import tensorflow\n",
    "from tensorflow.python.keras import backend as K"
   ]
  },
  {
   "cell_type": "code",
   "execution_count": null,
   "metadata": {
    "id": "YHdNIIqPydBu"
   },
   "outputs": [],
   "source": [
    "from keras.optimizers import Adam\n",
    "\n",
    "#num_filters = 64\n",
    "#kernel_size = (3,3)\n",
    "#activation = 'relu'\n",
    "#pool_size = (2,2)\n",
    "\n",
    "def create_model(learning_rate, num_filters, kernel_size, pool_size, dropout_rate, num_dense_layers,num_input_nodes,num_dense_nodes,\n",
    "                 activation, adam_decay):\n",
    "    model = Sequential()  \n",
    "    #start the model making process and create our first layer\n",
    "    # num_filters, kernel_size, activation, input_shape, init\n",
    "    model.add(Conv2D(num_filters, kernel_size, activation=activation, input_shape=input_shape, )), #kernel_initializer=init,\n",
    "    model.add(MaxPooling2D(pool_size=pool_size)),\n",
    "    model.add(Dropout(dropout_rate)),\n",
    "    #create a loop making a new convolutional layer for the amount passed to this model.\n",
    "    #naming the layers helps avoid tensorflow error deep in the stack trace.\n",
    "    ###for i in range(num_conv_layers):\n",
    "    ###name = 'layer_Conv_{0}'.format(i+2)\n",
    "    model.add(Conv2D(num_filters, kernel_size, activation=activation)) #name=name\n",
    "    ###name = 'layer_MaxPooling_{0}'.format(i+1)\n",
    "    model.add(MaxPooling2D(pool_size=pool_size))\n",
    "    ###name = 'layer_Dropout_{0}'.format(i+1)\n",
    "    model.add(Dropout(dropout_rate))\n",
    "    # Flatten the results to feed into a DNN\n",
    "    model.add(Flatten())\n",
    "    #create a loop making a new dense layer for the amount passed to this model.\n",
    "    #naming the layers helps avoid tensorflow error deep in the stack trace.\n",
    "    for i in range(num_dense_layers):\n",
    "        name = 'layer_dense_{0}'.format(i+1)\n",
    "        model.add(Dense(num_dense_nodes, activation=activation, name=name))\n",
    "    #add our classification layer.\n",
    "    model.add(Dense(1, activation='sigmoid'))    \n",
    "    #setup our optimizer and compile\n",
    "    adam = Adam(lr=learning_rate, decay= adam_decay)\n",
    "    model.compile(optimizer=adam, loss='categorical_crossentropy',\n",
    "                 metrics=['accuracy'])\n",
    "    return model"
   ]
  },
  {
   "cell_type": "code",
   "execution_count": null,
   "metadata": {
    "id": "_3IPJz3UG4Ea"
   },
   "outputs": [],
   "source": [
    "@use_named_args(dimensions=dimensions)\n",
    "\n",
    "def fitness(learning_rate, num_filters, kernel_size, pool_size, dropout_rate, num_dense_layers,\n",
    "            num_input_nodes,num_dense_nodes, activation, batch_size, adam_decay):\n",
    "\n",
    "    model = create_model(learning_rate = learning_rate,\n",
    "                         #num_conv_layers = num_conv_layers,\n",
    "                         num_filters = num_filters,\n",
    "                         kernel_size = kernel_size,\n",
    "                         pool_size = pool_size,\n",
    "                         dropout_rate = dropout_rate,\n",
    "                         num_dense_layers = num_dense_layers,\n",
    "                         num_input_nodes = num_input_nodes,\n",
    "                         num_dense_nodes = num_dense_nodes,\n",
    "                         activation = activation, \n",
    "                         adam_decay = adam_decay)\n",
    "    \n",
    "    #named blackbox becuase it represents the structure\n",
    "    blackbox = model.fit(train_generator,steps_per_epoch=42,    # 2000 images = batch_size * steps\n",
    "                         epochs = 10,\n",
    "                         validation_data=validation_generator,\n",
    "                         validation_steps = 11,  # 1000 images = batch_size * steps\n",
    "                         callbacks = my_callbacks\n",
    "                         verbose=0)\n",
    "    \n",
    "    #return the validation accuracy for the last epoch.\n",
    "    accuracy = blackbox.history['val_acc'][-1]\n",
    "\n",
    "    # Print the classification accuracy.\n",
    "    print()\n",
    "    print(\"Accuracy: {0:.2%}\".format(accuracy))\n",
    "    print()\n",
    "\n",
    "\n",
    "    # Delete the Keras model with these hyper-parameters from memory.\n",
    "    del model\n",
    "    \n",
    "    # Clear the Keras session, otherwise it will keep adding new\n",
    "    # models to the same TensorFlow graph each time we create\n",
    "    # a model with a different set of hyper-parameters.\n",
    "    K.clear_session()\n",
    "    tensorflow.reset_default_graph()\n",
    "    \n",
    "    return -accuracy"
   ]
  },
  {
   "cell_type": "markdown",
   "metadata": {
    "id": "9DcWunuVzW8o"
   },
   "source": [
    "It is always a good idea to run the code below everytime you restart the search function or the notebook\n",
    "The two lines of code below allows us to restart using tensorflow. Otherwise some stuff under the hood will cause problems.\n",
    "\n",
    "[ ]\n"
   ]
  },
  {
   "cell_type": "code",
   "execution_count": null,
   "metadata": {
    "id": "hkRI-OK1G38t"
   },
   "outputs": [],
   "source": [
    "K.clear_session()\n",
    "from tensorflow.python.framework import ops\n",
    "ops.reset_default_graph()"
   ]
  },
  {
   "cell_type": "markdown",
   "metadata": {
    "id": "jxc7bSL5zgR4"
   },
   "source": [
    "Hyper parameters for our hyper parameter search\n",
    "For the Gaussian Project search, I have added a few extra parameters to try to improve the search."
   ]
  },
  {
   "cell_type": "code",
   "execution_count": null,
   "metadata": {
    "id": "aDEFDYuOG30p"
   },
   "outputs": [],
   "source": [
    "gp_result = gp_minimize(func=fitness, dimensions=dimensions, n_calls=12, noise= 0.01, n_jobs=-1, kappa=5, x0=default_parameters, random_state=46)"
   ]
  },
  {
   "cell_type": "markdown",
   "metadata": {
    "id": "_4FwrIKbzoux"
   },
   "source": [
    "Find our best accuracy"
   ]
  },
  {
   "cell_type": "code",
   "execution_count": null,
   "metadata": {
    "id": "a6ydh1jJG3uB"
   },
   "outputs": [],
   "source": []
  },
  {
   "cell_type": "code",
   "execution_count": null,
   "metadata": {
    "id": "GRCw8OkHG3n0"
   },
   "outputs": [],
   "source": []
  },
  {
   "cell_type": "code",
   "execution_count": null,
   "metadata": {
    "id": "oqRuVc62yejX"
   },
   "outputs": [],
   "source": []
  },
  {
   "cell_type": "code",
   "execution_count": null,
   "metadata": {
    "id": "QTsnpkR1yega"
   },
   "outputs": [],
   "source": []
  },
  {
   "cell_type": "code",
   "execution_count": null,
   "metadata": {
    "id": "xtIMeSc0yedx"
   },
   "outputs": [],
   "source": []
  },
  {
   "cell_type": "code",
   "execution_count": null,
   "metadata": {
    "id": "1kGu0Ky6yeaK"
   },
   "outputs": [],
   "source": []
  },
  {
   "cell_type": "code",
   "execution_count": null,
   "metadata": {
    "id": "DGXDCscDyeXc"
   },
   "outputs": [],
   "source": []
  },
  {
   "cell_type": "code",
   "execution_count": null,
   "metadata": {
    "id": "Bri37X1jyeVI"
   },
   "outputs": [],
   "source": []
  },
  {
   "cell_type": "code",
   "execution_count": null,
   "metadata": {
    "id": "A6aGJdCHyeSj"
   },
   "outputs": [],
   "source": []
  },
  {
   "cell_type": "code",
   "execution_count": null,
   "metadata": {
    "id": "G6qmQY9MyePa"
   },
   "outputs": [],
   "source": []
  },
  {
   "cell_type": "code",
   "execution_count": null,
   "metadata": {
    "id": "OFrG0w6UyeMi"
   },
   "outputs": [],
   "source": []
  },
  {
   "cell_type": "code",
   "execution_count": null,
   "metadata": {
    "id": "dm-ODv3yygA2"
   },
   "outputs": [],
   "source": []
  },
  {
   "cell_type": "code",
   "execution_count": null,
   "metadata": {
    "id": "EfDclZXbyf-U"
   },
   "outputs": [],
   "source": []
  },
  {
   "cell_type": "code",
   "execution_count": null,
   "metadata": {
    "id": "pdGekg8hyf71"
   },
   "outputs": [],
   "source": []
  },
  {
   "cell_type": "code",
   "execution_count": null,
   "metadata": {
    "id": "Qcy94TAAyf5S"
   },
   "outputs": [],
   "source": []
  },
  {
   "cell_type": "code",
   "execution_count": null,
   "metadata": {
    "id": "5-674rOIyf2B"
   },
   "outputs": [],
   "source": []
  },
  {
   "cell_type": "code",
   "execution_count": null,
   "metadata": {
    "id": "eNGShQ5_yfyt"
   },
   "outputs": [],
   "source": []
  },
  {
   "cell_type": "code",
   "execution_count": null,
   "metadata": {
    "id": "2upL9s-Fyfvg"
   },
   "outputs": [],
   "source": [
    "\n",
    "\n",
    "\n",
    "\n",
    "\n",
    "\n",
    "\n",
    "\n",
    "\n",
    "\n",
    "\n",
    "\n",
    "\n",
    "\n",
    "\n",
    "\n",
    "\n",
    "\n",
    "\n",
    "\n",
    "\n",
    "\n",
    "\n",
    "\n",
    "\n",
    "\n",
    "\n",
    "\n",
    "\n",
    "\n",
    "\n",
    "\n",
    "\n",
    "\n",
    "\n",
    "\n",
    "\n",
    "\n",
    "\n",
    "\n",
    "\n",
    "\n",
    "\n",
    "\n",
    "\n",
    "\n",
    "\n",
    "\n",
    "\n",
    "\n",
    "\n",
    "\n",
    "\n"
   ]
  }
 ],
 "metadata": {
  "accelerator": "GPU",
  "colab": {
   "collapsed_sections": [],
   "name": "Pneumonia _30_03.ipynb",
   "provenance": [],
   "toc_visible": true
  },
  "kernelspec": {
   "display_name": "Python 3",
   "language": "python",
   "name": "python3"
  },
  "language_info": {
   "codemirror_mode": {
    "name": "ipython",
    "version": 3
   },
   "file_extension": ".py",
   "mimetype": "text/x-python",
   "name": "python",
   "nbconvert_exporter": "python",
   "pygments_lexer": "ipython3",
   "version": "3.8.5"
  }
 },
 "nbformat": 4,
 "nbformat_minor": 1
}
